{
 "metadata": {
  "name": "",
  "signature": "sha256:1e03cc39532f08b62386f2d295fcd5a13b731df3c7894594a85efaa20ee991a1"
 },
 "nbformat": 3,
 "nbformat_minor": 0,
 "worksheets": [
  {
   "cells": [
    {
     "cell_type": "markdown",
     "metadata": {},
     "source": [
      "<img src=\"files/images/letslearnpython.png\" />\n",
      "#OPI PYTHONIN PERUSTEET\n",
      "\n",
      "T\u00e4m\u00e4 interaktiivinen harjoitus seurailee PyCon 2014 -tapahtumassa Barbara Shauretten ja Katie Cunninghamin pit\u00e4m\u00e4n Python-koulutuksen rakennetta. \n",
      "\n",
      "> Jos haluat t\u00e4m\u00e4n suomenkielisen oppaan sijaan tutustua englanninkieliseen alkuper\u00e4ismateriaaliin (kalvot, esimerkit ym.), ne ovat ladattavissa t\u00e4\u00e4lt\u00e4:\n",
      "> https://github.com/mechanicalgirl/young-coders-tutorial"
     ]
    },
    {
     "cell_type": "markdown",
     "metadata": {},
     "source": [
      "<img src=\"files/images/whatprog.png\" />\n",
      "\n",
      "Mit\u00e4 **ohjelmoinnilla** tarkoitetaan:\n",
      "* **Tietokone** on laite joka paitsi **s\u00e4il\u00f6\u00f6**, my\u00f6s **siirt\u00e4\u00e4**, **j\u00e4rjest\u00e4\u00e4**, **luo** ja **hallitsee** tietoa (eli _dataa_).\n",
      "* **Tietokoneohjelma** puolestaan on joukko yksik\u00e4sitteisi\u00e4 **ohjeita**, jotka kertovat tietokoneelle mit\u00e4 datalle pit\u00e4isi tehd\u00e4. **Ohjelmointikieli** on se erityinen kieli, mill\u00e4 n\u00e4m\u00e4 ohjeet kirjoitetaan.\n",
      "* Alla on joitain esimerkkej\u00e4 ohjeista, jotka on tarkoitettu meille ihmisille (origamilinnun taitteluohje, pikkuleip\u00e4resepti ja kirjan sidontaohje):\n",
      "\n",
      "<img src=\"files/images/instructions.png\" />\n",
      "\n",
      "* Heti alkuun on hyv\u00e4 sis\u00e4ist\u00e4\u00e4, ett\u00e4 tietokone on kovin tyhm\u00e4. Se ymm\u00e4rr\u00e4 yll\u00e4 olevan esimerkin kaltaisia oheita, vaikka ne ovat ihmiselle p\u00e4iv\u00e4nselvi\u00e4. Tietokoneelle ohjeet pit\u00e4\u00e4 kirjoittaa todella yksityiskohtaisesti, huolellisesti ja tarkasti, sill\u00e4 se toimii **t\u00e4sm\u00e4lleen** kuten ohjeistettu. T\u00e4m\u00e4 ohjeiden kirjoittaminen jollain ohjelmointikielell\u00e4 on **ohjelmointia** - eli juuri sit\u00e4, mit\u00e4 t\u00e4m\u00e4 opas opettaa.\n",
      "* **Algoritmilla** tarkoitetaan ohjeita jonkin tietyn asian tekemiseksi tietokoneella - usein tehokkaalla ja nopealla tavalla. Algoritmit ovat kuin reseptej\u00e4, eli askel-askeleelta etenevi\u00e4 ohjeita, joiden lopputulos on haluttu (esim. kanelipulla tai aakkosj\u00e4rjestykseen saatettu lista nimi\u00e4).\n",
      "\n"
     ]
    },
    {
     "cell_type": "markdown",
     "metadata": {},
     "source": [
      "<img src=\"files/images/talkpy.png\" />\n",
      "\n",
      "Pian kokeilemme kirjoittaa ohjeita tietokoneelle, mutta ensin on hyv\u00e4 tiet\u00e4\u00e4, ett\u00e4 ohjelmointikieli\u00e4 on olemassa valtavasti erilaisia - eri k\u00e4ytt\u00f6tarkoituksiin. T\u00e4ss\u00e4 oppaassa opettelemme ohjelmointikielt\u00e4 nimelt\u00e4 **Python**, joka on aloittelijayst\u00e4v\u00e4llinen ja silti valtavan tehokas ja ilmaisuvoimainen kieli.\n",
      "\n",
      "Python voi n\u00e4ytt\u00e4yty\u00e4 ohjelmoijalle monessa muodossa:\n",
      "1. Yksinkertaisin tapa k\u00e4ytt\u00e4\u00e4 Pythonia on Python-komentotulkki, jonne kirjoitetaan komentoja, jotka tulkki sitten v\u00e4litt\u00e4m\u00e4sti suorittaa. Komentotulkin kanssa vuoropuheluna voi tehd\u00e4 laskutoimituksia, opiskella Pythonin k\u00e4ytt\u00f6\u00e4 tai kokeilla erilaisten ideoiden toimivuutta.\n",
      "1. Komentotulkista on my\u00f6s kehittyneempi ja k\u00e4ytt\u00e4j\u00e4yst\u00e4v\u00e4llisempi versio nimelt\u00e4 IPython. Se tarjoaa monenlaisia apuv\u00e4lineit\u00e4 Pythonin kirjoittamiseen: tiedostojen hallintaa, dokumentaatiota, erilaisia oikoteit\u00e4, komentohistorian ja paljon muuta.\n",
      "1. IPython Notebookin, jota nyt parhaillaan k\u00e4yt\u00e4t, l\u00e4hestymistapa on erilainen: k\u00e4yt\u00f6ss\u00e4si on nettiselaimessa (Chrome, Firefox ym.) toimiva vuorovaikutteinen muistikirjan sivu, jonne voi kirjoittaa paitsi teksti\u00e4, my\u00f6s Python-ohjelmointikielisi\u00e4 k\u00e4skyj\u00e4.\n",
      "1. Python-ohjelmointikielell\u00e4 voidaan my\u00f6s tehd\u00e4 itsen\u00e4isesti toimivia ohjelmia. T\u00e4ll\u00f6in kirjoitetaan `.py`-tiedosto, joka annetaan tietokoneen suoritettavaksi. `.py`-tiedostojen kirjoittamiseen on monenlaisia ty\u00f6kaluja aina muistiosta tehokkaisiin integroituihin kehitysymp\u00e4rist\u00f6ihin (_eng. IDE_). N\u00e4in tehty ohjelma voidaan jopa paketoida suoritettavaksi `.exe`-tiedostoksi.\n",
      "\n",
      "<img src=\"files/images/pythonviews.png\" />\n"
     ]
    },
    {
     "cell_type": "markdown",
     "metadata": {},
     "source": [
      "#1. Laskutoimituksia\n",
      "Aloitetaan Python-ohjelmointi yksinkertaisella matematiikalla. Pythonia voi nimitt\u00e4in k\u00e4ytt\u00e4\u00e4 k\u00e4tev\u00e4n\u00e4 laskimena.\n",
      "\n",
      "Naksauta hiirell\u00e4 alla oleva harmaa laatikko aktiivisiksi ja paina [\u21e7SHIFT] + [\u21b5ENTER], jolloin Python suorittaa laskutoimituksen, kertoo tuloksen ja siirtyy seuraavaan laatikkoon."
     ]
    },
    {
     "cell_type": "code",
     "collapsed": false,
     "input": [
      "1+2"
     ],
     "language": "python",
     "metadata": {},
     "outputs": []
    },
    {
     "cell_type": "markdown",
     "metadata": {},
     "source": [
      "Hyv\u00e4! Tee sama uudelleen alla olevalle laatikolle."
     ]
    },
    {
     "cell_type": "code",
     "collapsed": false,
     "input": [
      "12-3"
     ],
     "language": "python",
     "metadata": {},
     "outputs": []
    },
    {
     "cell_type": "markdown",
     "metadata": {},
     "source": [
      "Kokeile nyt kirjoittaa itse alla olevaan harmaaseen laatikkoon seuraava laskutoimitus. \n",
      "\u00c4l\u00e4 kuitenkaan kopioi `>>>`-merkkej\u00e4, sill\u00e4 ne ovat vain ilmaisemassa, ett\u00e4 kyseess\u00e4 on Python-koodi:\n",
      "```python\n",
      ">>> 9+5-15```"
     ]
    },
    {
     "cell_type": "code",
     "collapsed": false,
     "input": [],
     "language": "python",
     "metadata": {},
     "outputs": []
    },
    {
     "cell_type": "markdown",
     "metadata": {},
     "source": [
      "Paina sitten `[CTRL]` + `[\u21b5ENTER]` ja Python laskee laskun, kertoo tuloksen **ja pit\u00e4\u00e4 kyseisen laatikon aktiivisena silt\u00e4 varalta, ett\u00e4 haluat muokata sen sis\u00e4lt\u00f6\u00e4.** T\u00e4m\u00e4 siis erotuksena aiempaan [\u21e7SHIFT] + [\u21b5ENTER] -komentoon, joka siirtyy heti eteenp\u00e4in. Toiminnolle l\u00f6ytyy my\u00f6s [\u25b6]-nappi yl\u00e4reunan ty\u00f6kalupalkista."
     ]
    },
    {
     "cell_type": "markdown",
     "metadata": {},
     "source": [
      "### Matemaattiset operaattorit\n",
      "Pythonin matemaattiset perusoperaattorit ovat:\n",
      "* yhteenlasku: `+`\n",
      "* v\u00e4hennyslasku: `-`\n",
      "* kertolasku: `*`\n",
      "* jakolasku: `/`\n",
      "\n",
      "Kokeile vaikka n\u00e4it\u00e4:\n",
      "```python\n",
      ">>> 6*5\n",
      ">>> 10*5*3\n",
      ">>> 6/2\n",
      ">>> 20/7\n",
      "```\n",
      "Tai voit kokeilla laskea ihan itse keksimill\u00e4si luvuilla. Kokeile my\u00f6s operaattoria `**`. Keksitk\u00f6 mit\u00e4 se tekee?"
     ]
    },
    {
     "cell_type": "code",
     "collapsed": false,
     "input": [],
     "language": "python",
     "metadata": {},
     "outputs": []
    },
    {
     "cell_type": "code",
     "collapsed": false,
     "input": [],
     "language": "python",
     "metadata": {},
     "outputs": []
    },
    {
     "cell_type": "code",
     "collapsed": false,
     "input": [],
     "language": "python",
     "metadata": {},
     "outputs": []
    },
    {
     "cell_type": "code",
     "collapsed": false,
     "input": [],
     "language": "python",
     "metadata": {},
     "outputs": []
    },
    {
     "cell_type": "markdown",
     "metadata": {},
     "source": [
      "> **Sivuhuomautus:** Pythonin 2.7 ja 3 versiot laskevat jakolaskun eri tavalla. Vanhempi ja hiljalleen k\u00e4yt\u00f6st\u00e4 poistuva 2.7 saattaa tuottaa ik\u00e4v\u00e4n yll\u00e4tyksen: `5/2` palauttaakin arvon `2`, eik\u00e4 `2.5`. Jos Python 2.7:lla haluaa tarkan jakolaskun tuloksen on kirjoitettava `5.0/2.0`."
     ]
    },
    {
     "cell_type": "markdown",
     "metadata": {},
     "source": [
      "> **Toinen sivuhuomautus:** Saatat huomata tehdess\u00e4si omia laskuja, ett\u00e4 tulos ei ole aivan sit\u00e4 mit\u00e4 odotit. T\u00e4ll\u00f6in j\u00e4rjestys, miss\u00e4 Python suorittaa laskuoperaatot saattaa olla eri mit\u00e4 tarkoitit. Voit pakottaa Pythonin laskemaan haluamassasi j\u00e4rjestyksess\u00e4 lis\u00e4\u00e4m\u00e4ll\u00e4 sulkuja. Esimerkiksi `3+4+5/3` ei tuota samaa vastausta kuin `(3+4+5)/3`."
     ]
    },
    {
     "cell_type": "code",
     "collapsed": false,
     "input": [],
     "language": "python",
     "metadata": {},
     "outputs": []
    },
    {
     "cell_type": "markdown",
     "metadata": {},
     "source": [
      "### Vertailuoperaattorit\n",
      "\n",
      "<table>\n",
      "<tr><td>\n",
      "`== `</td><td>tutkii ovatko luvut yht\u00e4suuret\n",
      "</td></tr>\n",
      "<tr><td>\n",
      "`!= `</td><td>tutkii ovatko luvut erisuuret\n",
      "</td></tr>\n",
      "<tr><td>\n",
      "`<  `</td><td>tarkistaa onko vasemmalla puolella oleva luku pienempi kuin oikealla puolella oleva\n",
      "</td></tr>\n",
      "<tr><td>\n",
      "`>  `</td><td>tarkistaa onko vasemmalla puolella oleva luku suurempi kuin oikealla puolella oleva\n",
      "</td></tr>\n",
      "<tr><td>\n",
      "`<= `</td><td>tarkistaa onko vasemmalla puolella oleva luku pienempi *tai yht\u00e4suuri* kuin oikealla puolella oleva\n",
      "</td></tr>\n",
      "<tr><td>\n",
      "`>= `</td><td>tarkistaa onko vasemmalla puolella oleva luku suurempi *tai yht\u00e4suuri* kuin oikealla puolella oleva\n",
      "</td></tr>\n",
      "</table>\n",
      "\n",
      "Kokeile n\u00e4it\u00e4 alla. Esimerkiksi:\n",
      "```python\n",
      ">>> 5 < 4 + 3\n",
      ">>> 12 + 1 >= 12\n",
      ">>> 16 * 2 == 32\n",
      ">>> 16 != 16\n",
      ">>> 5 >= 6\n",
      "```\n"
     ]
    },
    {
     "cell_type": "code",
     "collapsed": false,
     "input": [],
     "language": "python",
     "metadata": {},
     "outputs": []
    },
    {
     "cell_type": "code",
     "collapsed": false,
     "input": [],
     "language": "python",
     "metadata": {},
     "outputs": []
    },
    {
     "cell_type": "code",
     "collapsed": false,
     "input": [],
     "language": "python",
     "metadata": {},
     "outputs": []
    },
    {
     "cell_type": "code",
     "collapsed": false,
     "input": [],
     "language": "python",
     "metadata": {},
     "outputs": []
    },
    {
     "cell_type": "code",
     "collapsed": false,
     "input": [],
     "language": "python",
     "metadata": {},
     "outputs": []
    },
    {
     "cell_type": "markdown",
     "metadata": {},
     "source": [
      "Vertailuoperaatot ovat t\u00e4rkeit\u00e4 ohjelmoinnissa, kuten pian tulemme n\u00e4kem\u00e4\u00e4n. Niiden avulla voimme ohjelmoida tietokoneen tekem\u00e4\u00e4n eri asioita eri tilanteissa."
     ]
    },
    {
     "cell_type": "markdown",
     "metadata": {},
     "source": [
      "#2. Merkkijonot\n",
      "Paitsi lukuja, k\u00e4sittelev\u00e4t tietokoneet my\u00f6s paljon tekstimuotoista tietoa. Tekstimuotoinen tieto on tallennettu tietokoneelle jonona kirjoitusmerkkej\u00e4, eli tuttavallisemmin **merkkijonona**.\n",
      "\n",
      "Python tulkitsee merkkijonoksi tekstinp\u00e4tk\u00e4n, joka on lainausmerkkien v\u00e4liss\u00e4. Kokeile:\n",
      "```python\n",
      ">>> \"hello world\"\n",
      ">>> \"omppu\"\n",
      ">>> omppu\n",
      "```"
     ]
    },
    {
     "cell_type": "code",
     "collapsed": false,
     "input": [
      "\"hello world\""
     ],
     "language": "python",
     "metadata": {},
     "outputs": []
    },
    {
     "cell_type": "code",
     "collapsed": false,
     "input": [],
     "language": "python",
     "metadata": {},
     "outputs": []
    },
    {
     "cell_type": "code",
     "collapsed": false,
     "input": [],
     "language": "python",
     "metadata": {},
     "outputs": []
    },
    {
     "cell_type": "markdown",
     "metadata": {},
     "source": [
      "Viimeisen esimerkin, eli sen ompun, jota ei oltu ympyr\u00f6ity lainausmerkein, tuleekin antaa virhe. Virheisiin palaamme pian, mutta t\u00e4ss\u00e4 esimerkin tarkoitus on iskostaa mieleesi seuraava s\u00e4\u00e4nt\u00f6: **jos haluat sy\u00f6tt\u00e4\u00e4 Pythonille merkkijonon, k\u00e4yt\u00e4 lainausmerkkej\u00e4**"
     ]
    },
    {
     "cell_type": "markdown",
     "metadata": {},
     "source": [
      "### Operaatioita merkkijonoille\n",
      "Kuten luvuille, my\u00f6s merkkijonoille voi tehd\u00e4 erilaisia operaatioita:\n",
      "\n",
      "* yhdist\u00e4minen: `+`\n",
      "* toistaminen: `*`\n",
      "\n",
      "Katso ja kokeile mit\u00e4 Python tekee kun annat sille seuraavat ohjeet:\n",
      "```python\n",
      ">>> \"Hei \" + \"muukalainen\"\n",
      ">>> \"HAHA\" * 100\n",
      "```"
     ]
    },
    {
     "cell_type": "code",
     "collapsed": false,
     "input": [],
     "language": "python",
     "metadata": {},
     "outputs": []
    },
    {
     "cell_type": "code",
     "collapsed": false,
     "input": [],
     "language": "python",
     "metadata": {},
     "outputs": []
    },
    {
     "cell_type": "markdown",
     "metadata": {},
     "source": [
      "#3. Muuttujat\n",
      "Tutustuimme edell\u00e4 siihen, miten lukuja ja merkkijonoja k\u00e4sitell\u00e4\u00e4n Pythonilla. Seuraavaksi tutustumme ideaan, jota voi k\u00e4ytt\u00e4\u00e4 molempien kanssa - eli muuttujaan.\n",
      "\n",
      "Matematiikan tunnilta saatat muistaa **x**:n. Sit\u00e4 k\u00e4ytettiin merkitsem\u00e4\u00e4n jotain tuntematonta (tai tunnettua) lukua. Ohjelmointikieless\u00e4 n\u00e4m\u00e4 **muuttujat** toimivat hieman samalla tavalla.\n",
      "\n",
      "Muuttujat ovat kuin laatikoita, joiden sis\u00e4\u00e4n voit pakata numeroita, merkkijonoja tai muita \"juttuja\".\n",
      "\n",
      "Laske alla olevassa harmaassa laatikossa lasku:\n",
      "```python\n",
      ">>> 12 * 12 \n",
      "```"
     ]
    },
    {
     "cell_type": "code",
     "collapsed": false,
     "input": [],
     "language": "python",
     "metadata": {},
     "outputs": []
    },
    {
     "cell_type": "markdown",
     "metadata": {},
     "source": [
      "Python kuitenkin unohtaa tuloksen heti. Ent\u00e4s jos haluaisit, ett\u00e4 vastaus pysyy muistissa? Voit laittaa tuloksen muistiin **sijoittamalla** sen nimettyyn muuttujaan:\n",
      "```python\n",
      ">>> tulos = 12 * 12\n",
      ">>> tulos\n",
      "```"
     ]
    },
    {
     "cell_type": "code",
     "collapsed": false,
     "input": [],
     "language": "python",
     "metadata": {},
     "outputs": []
    },
    {
     "cell_type": "code",
     "collapsed": false,
     "input": [],
     "language": "python",
     "metadata": {},
     "outputs": []
    },
    {
     "cell_type": "markdown",
     "metadata": {},
     "source": [
      "Muuttujat s\u00e4\u00e4st\u00e4v\u00e4t aikaa ja vaivaa, sill\u00e4 voit nyt k\u00e4ytt\u00e4\u00e4 muuttujaa `tulos` uudelleen ja uudellen tulevissa laskutoimituksissa ja ohjeissa. \n",
      "\n",
      "> Huomaa, ett\u00e4 `tiutiu` ei ole lainausmerkeiss\u00e4. N\u00e4in siksi, ett\u00e4 se ei ole merkkijono, vaan muuttuja. Yleens\u00e4 kannattaa k\u00e4ytt\u00e4\u00e4 kuvaavia muuttujan nimi\u00e4. N\u00e4in ei tarvitse turhaan arvailla ja selvitell\u00e4, ett\u00e4 mit\u00e4 muuttujassa on sis\u00e4ll\u00e4 - nimi kertoo sen jo."
     ]
    },
    {
     "cell_type": "markdown",
     "metadata": {},
     "source": [
      "Voit uudelleenk\u00e4ytt\u00e4\u00e4 muuttujia. Sijoita vaan sinne uusi arvo. Esimerkiksi:"
     ]
    },
    {
     "cell_type": "code",
     "collapsed": false,
     "input": [
      "color = 'yellow'"
     ],
     "language": "python",
     "metadata": {},
     "outputs": []
    },
    {
     "cell_type": "code",
     "collapsed": false,
     "input": [
      "color = 12"
     ],
     "language": "python",
     "metadata": {},
     "outputs": []
    },
    {
     "cell_type": "markdown",
     "metadata": {},
     "source": [
      "Mit\u00e4 luulet 'color' muuttujassa nyt olevan? Kokeillaan (suorita kaikki t\u00e4m\u00e4n esimerkin kolme laatikkoa ylh\u00e4\u00e4lt\u00e4 alas):"
     ]
    },
    {
     "cell_type": "code",
     "collapsed": false,
     "input": [
      "color"
     ],
     "language": "python",
     "metadata": {},
     "outputs": []
    },
    {
     "cell_type": "markdown",
     "metadata": {},
     "source": [
      "Muuttujat ovat ohjelmoinniss\u00e4 hyvin t\u00e4rkeit\u00e4. Siksi kertauksena:\n",
      "* Voit laittaa tulokset talteen muuttujaan ja k\u00e4ytt\u00e4\u00e4 n\u00e4it\u00e4 tuloksia my\u00f6hemmin\n",
      "* Voit vaihtaa muuttujan arvon vaikka sen nimi pysyy samana\n",
      "* Muuttujaan sijoitetaan '=' operaattorilla. T\u00e4m\u00e4 erotuksena '==' operaattoriin, joka siis tutkii ovatko luvut **tai muuttujien sis\u00e4lt\u00e4m\u00e4t luvut** samat (esimerkki alla). T\u00e4ss\u00e4 sekoilu on hyvin yleinen virhe."
     ]
    },
    {
     "cell_type": "code",
     "collapsed": false,
     "input": [
      "x = 3\n",
      "y = 3\n",
      "x==y"
     ],
     "language": "python",
     "metadata": {},
     "outputs": []
    },
    {
     "cell_type": "markdown",
     "metadata": {},
     "source": [
      "Joitain muita juttuja, mit\u00e4 muuttujilla - ja erityisesti merkkijonomuuttujilla - voi tehd\u00e4."
     ]
    },
    {
     "cell_type": "code",
     "collapsed": false,
     "input": [
      "hedelma = \"appelsiini\"\n",
      "hedelma[2]"
     ],
     "language": "python",
     "metadata": {},
     "outputs": []
    },
    {
     "cell_type": "code",
     "collapsed": false,
     "input": [
      "indeksi = 4\n",
      "hedelma[indeksi-2]"
     ],
     "language": "python",
     "metadata": {},
     "outputs": []
    },
    {
     "cell_type": "markdown",
     "metadata": {},
     "source": [
      "Alle voit kokeilla itse:"
     ]
    },
    {
     "cell_type": "code",
     "collapsed": false,
     "input": [],
     "language": "python",
     "metadata": {},
     "outputs": []
    },
    {
     "cell_type": "markdown",
     "metadata": {},
     "source": [
      "#4. Virheet\n",
      "Er\u00e4s ohjelmoinnissa hyvin t\u00e4rke\u00e4 asia ovat **virheet** ja **virheilmoitukset**. Paraskaan ohjelmoija ei osaa kirjoittaa virheet\u00f6nt\u00e4 ohjelmakoodia. Siksi onkin hyv\u00e4, ett\u00e4 ty\u00f6kalu osaa tunnistaa ja kertoa meille suurimmassa osassa tapauksista milloin olemme tehneet jotain v\u00e4\u00e4rin - ja mik\u00e4 viel\u00e4 t\u00e4rke\u00e4mp\u00e4\u00e4, miss\u00e4 ja mik\u00e4 virhe oikein oli. Suorita alla olevat koodit."
     ]
    },
    {
     "cell_type": "code",
     "collapsed": false,
     "input": [
      "\"kaveri\"*5"
     ],
     "language": "python",
     "metadata": {},
     "outputs": []
    },
    {
     "cell_type": "code",
     "collapsed": false,
     "input": [
      "\"kaveri\"+5"
     ],
     "language": "python",
     "metadata": {},
     "outputs": []
    },
    {
     "cell_type": "markdown",
     "metadata": {},
     "source": [
      "Mit\u00e4 ylle ilmaantunut virhe mielest\u00e4si tarkoittaa? Mit\u00e4 'str' ja 'int' tarkoittavat?\n",
      "\n",
      "Pureskellaan virheilmoitus auki:\n",
      "* Merkkijonot ('str' lyh. *string*)\n",
      "* Kokonais**luvut** ('int' lyh. *integer*)\n",
      "* Molemmat ovat jotain objekteja (objects *suom. **olioita***)\n",
      "* Mutta Python ei osaa yhdist\u00e4\u00e4 niit\u00e4, sill\u00e4 ne ovat eri **tyyppisi\u00e4** (TypeError).\n",
      "\n",
      "Usein lukemalla virheilmoituksen huolellisesti voi p\u00e4\u00e4st\u00e4 jyv\u00e4lle siit\u00e4 mik\u00e4 menee vikaan. Esimerkkitapauksessamme virhe olisi korjattavissa niin, ett\u00e4 annamme my\u00f6s numeron lainausmerkkien v\u00e4liss\u00e4 olevana merkkijonona, jolloin yhdistett\u00e4v\u00e4t ovat molemmat merkkijonoja. Kokeile:\n",
      "```python\n",
      ">>> \"kaveri\"+\"5\"\n",
      "```"
     ]
    },
    {
     "cell_type": "code",
     "collapsed": false,
     "input": [],
     "language": "python",
     "metadata": {},
     "outputs": []
    },
    {
     "cell_type": "markdown",
     "metadata": {},
     "source": [
      "<img src=\"files/images/types.png\" />\n",
      "\n",
      "#Perustietotyypit\n",
      "Olemme jo tutustuneet kolmeen tietotyyppiin:\n",
      "* `\"Hei!\"`, joka on **merkkijono** (eng. *string*)\n",
      "* 27, joka on **kokonaisluku** (eng. *integer*)\n",
      "* 3.14, joka on desimaaliluku/**liukuluku** (eng. *float*)\n",
      "\n",
      "> **Sivuhuomautus:** Huomaa, ett\u00e4 Pythonin desimaalierotin on piste eik\u00e4 pilkku. T\u00e4m\u00e4 on hyvin yleist\u00e4 ohjelmointikieliss\u00e4 ja tietojenk\u00e4sittelyss\u00e4, mutta ensikertalaisen kannattaa kiinnitt\u00e4\u00e4 asiaan huomiota.\n",
      "\n",
      "Python osaa kertoa meille tyypin Pythoniin sis\u00e4\u00e4nrakennetulla `type(...)`-funktiolla. Funktioihin tutustumme l\u00e4hemmin tuonnempana."
     ]
    },
    {
     "cell_type": "code",
     "collapsed": false,
     "input": [
      "tervehdys = \"Hei!\"\n",
      "type(tervehdys)"
     ],
     "language": "python",
     "metadata": {},
     "outputs": []
    },
    {
     "cell_type": "markdown",
     "metadata": {},
     "source": [
      "Hae alla vastaavalla tavalla tyyppikuvaus kokonaisluvulle ja liukuluvulle:"
     ]
    },
    {
     "cell_type": "code",
     "collapsed": false,
     "input": [
      "type(12)"
     ],
     "language": "python",
     "metadata": {},
     "outputs": []
    },
    {
     "cell_type": "code",
     "collapsed": false,
     "input": [],
     "language": "python",
     "metadata": {},
     "outputs": []
    },
    {
     "cell_type": "markdown",
     "metadata": {},
     "source": [
      "Voit muuttaa tietoa toiseen muotoon `int(...)`, `str(...)` ja `float(...)` -funktioilla. Esimerkiksi:"
     ]
    },
    {
     "cell_type": "code",
     "collapsed": false,
     "input": [
      "float(5)"
     ],
     "language": "python",
     "metadata": {},
     "outputs": []
    },
    {
     "cell_type": "markdown",
     "metadata": {},
     "source": [
      "Kokeile muuttaa kokonaisluku merkkijonoksi:"
     ]
    },
    {
     "cell_type": "code",
     "collapsed": false,
     "input": [],
     "language": "python",
     "metadata": {},
     "outputs": []
    },
    {
     "cell_type": "markdown",
     "metadata": {},
     "source": [
      "Ent\u00e4s muuttuuko numeron sis\u00e4lt\u00e4v\u00e4 merkkijono desimaaliluvuksi?:"
     ]
    },
    {
     "cell_type": "code",
     "collapsed": false,
     "input": [],
     "language": "python",
     "metadata": {},
     "outputs": []
    },
    {
     "cell_type": "markdown",
     "metadata": {},
     "source": [
      "#5. Listat\n",
      "Lista voi pit\u00e4\u00e4 sis\u00e4ll\u00e4\u00e4n sarjan olioita. Esimerkiksi:"
     ]
    },
    {
     "cell_type": "code",
     "collapsed": false,
     "input": [
      "hedelmat = [\"omena\", \"banaani\", \"mandariini\"]"
     ],
     "language": "python",
     "metadata": {},
     "outputs": []
    },
    {
     "cell_type": "code",
     "collapsed": false,
     "input": [
      "numerot = [3, 17, -4, 8.8, 1]"
     ],
     "language": "python",
     "metadata": {},
     "outputs": []
    },
    {
     "cell_type": "markdown",
     "metadata": {},
     "source": [
      "Arvaa mit\u00e4 `type(...)`-fuktio osaa kertoa:"
     ]
    },
    {
     "cell_type": "code",
     "collapsed": false,
     "input": [
      "type(hedelmat), type(numerot)"
     ],
     "language": "python",
     "metadata": {},
     "outputs": []
    },
    {
     "cell_type": "markdown",
     "metadata": {},
     "source": [
      "Voit k\u00e4ytt\u00e4\u00e4 kokonaisluku**indeksi\u00e4** ja hakasulkuoperaattoria hakeaksesi jonkin listan **alkion**:"
     ]
    },
    {
     "cell_type": "code",
     "collapsed": false,
     "input": [
      "hedelmat[0]"
     ],
     "language": "python",
     "metadata": {},
     "outputs": []
    },
    {
     "cell_type": "code",
     "collapsed": false,
     "input": [
      "numerot[1]"
     ],
     "language": "python",
     "metadata": {},
     "outputs": []
    },
    {
     "cell_type": "markdown",
     "metadata": {},
     "source": [
      "> Huomaa edellisist\u00e4 esimerkist\u00e4 pari seikkaa. Ohjelmointikieliss\u00e4 on tyypillist\u00e4, ett\u00e4 listan ensimm\u00e4inen alkio haetaan indeksill\u00e4 `0` - se on siis tavallaan \"nollas\" alkio eik\u00e4 \"ensimm\u00e4inen\". N\u00e4in my\u00f6s Pythonissa.\n",
      "\n",
      "Mihin negatiivinen indeksi -1 osoittaa? Ent\u00e4 -2? Kokeile arvasitko oikein:"
     ]
    },
    {
     "cell_type": "code",
     "collapsed": false,
     "input": [
      "hedelmat[-1]"
     ],
     "language": "python",
     "metadata": {},
     "outputs": []
    },
    {
     "cell_type": "markdown",
     "metadata": {},
     "source": [
      "### Teht\u00e4v\u00e4:\n",
      "Tee **lista** kolmesta lempiv\u00e4rist\u00e4si:"
     ]
    },
    {
     "cell_type": "code",
     "collapsed": false,
     "input": [],
     "language": "python",
     "metadata": {},
     "outputs": []
    },
    {
     "cell_type": "markdown",
     "metadata": {},
     "source": [
      "K\u00e4yt\u00e4 **indeksi\u00e4** ja hakasulkuoperaattoria hakeaksesi yhden lempiv\u00e4reist\u00e4si:"
     ]
    },
    {
     "cell_type": "code",
     "collapsed": false,
     "input": [],
     "language": "python",
     "metadata": {},
     "outputs": []
    },
    {
     "cell_type": "markdown",
     "metadata": {},
     "source": [
      "#6. Totuusarvot (*eng. booleans*)\n",
      "Totuusarvo voi olla `True` tai `False`"
     ]
    },
    {
     "cell_type": "code",
     "collapsed": false,
     "input": [
      "1==1"
     ],
     "language": "python",
     "metadata": {},
     "outputs": []
    },
    {
     "cell_type": "code",
     "collapsed": false,
     "input": [
      "15 < 5"
     ],
     "language": "python",
     "metadata": {},
     "outputs": []
    },
    {
     "cell_type": "markdown",
     "metadata": {},
     "source": [
      "Kokeile mit\u00e4 tapahtuu jos kirjoitat Pythonille pelk\u00e4n `True` tai `False`. Ent\u00e4s pystytk\u00f6 sijoittamaan totuusarvon muuttujaan?"
     ]
    },
    {
     "cell_type": "code",
     "collapsed": false,
     "input": [],
     "language": "python",
     "metadata": {},
     "outputs": []
    },
    {
     "cell_type": "code",
     "collapsed": false,
     "input": [],
     "language": "python",
     "metadata": {},
     "outputs": []
    },
    {
     "cell_type": "markdown",
     "metadata": {},
     "source": [
      "Mik\u00e4 on totuusarvon tyyppi? Tarkista se `type(...)`-funktiolla, kuten teimme kokonaisluvuille ja merkkijonoille:"
     ]
    },
    {
     "cell_type": "code",
     "collapsed": false,
     "input": [],
     "language": "python",
     "metadata": {},
     "outputs": []
    },
    {
     "cell_type": "markdown",
     "metadata": {},
     "source": [
      "> Huomaa, ett\u00e4 `True` ja `False` on kirjoitettu suurella alkukirjaimella, ja ett\u00e4 ne eiv\u00e4t ole ymp\u00e4r\u00f6ity lainausmerkein, eli ne eiv\u00e4t ole merkkijonoja. `True` ja `False` ovatkin Pythonin **varattuja sanoja**, eli kieleen sis\u00e4\u00e4nrakennettuja asioita."
     ]
    },
    {
     "cell_type": "markdown",
     "metadata": {},
     "source": [
      "### and / or / not\n",
      "My\u00f6s `and`, `or` ja `not` ovat Pythonissa varattuja sanoja. Niill\u00e4 voi muuttaa totuusarvoja, sek\u00e4 yhdist\u00e4\u00e4 niit\u00e4 tuottavia vertailuoperaatioita toisiinsa.\n",
      "\n",
      "> Alla risuaidan `#` j\u00e4lkeen kirjoitettua ei tulkita Python-kieleksi. Ne ovat koodin sekaan kirjoitettuja **kommentteja**, mik\u00e4 onkin usein tarpeen, jotta koodin tarkoitusta ei tarvitse turhaan kummastella. Kommentit auttavat koodaajaa - ja mik\u00e4 t\u00e4rke\u00e4mp\u00e4\u00e4 - muita koodaajia ymm\u00e4rt\u00e4m\u00e4\u00e4n mit\u00e4 koodi tekee.\n",
      "\n"
     ]
    },
    {
     "cell_type": "code",
     "collapsed": false,
     "input": [
      "1==1 and 2==2   # molemmat ovat tosia, lopputulos tosi"
     ],
     "language": "python",
     "metadata": {},
     "outputs": []
    },
    {
     "cell_type": "code",
     "collapsed": false,
     "input": [
      "1==1 and 2!=2  # Vain toinen on tosi, lopputulos ep\u00e4tosi"
     ],
     "language": "python",
     "metadata": {},
     "outputs": []
    },
    {
     "cell_type": "code",
     "collapsed": false,
     "input": [
      "1==2 and 2==3  # Kummatkaan eiv\u00e4t ole tosia, lopputulos ep\u00e4tosi"
     ],
     "language": "python",
     "metadata": {},
     "outputs": []
    },
    {
     "cell_type": "code",
     "collapsed": false,
     "input": [
      "1==1 or 2==2   # molemmat ovat tosia, lopputulos tosi"
     ],
     "language": "python",
     "metadata": {},
     "outputs": []
    },
    {
     "cell_type": "code",
     "collapsed": false,
     "input": [
      "1==1 or 2!=2  # Vain toinen on tosi, lopputulos silti tosi"
     ],
     "language": "python",
     "metadata": {},
     "outputs": []
    },
    {
     "cell_type": "code",
     "collapsed": false,
     "input": [
      "1==2 or 2==3  # Kummatkaan eiv\u00e4t ole tosia, lopputulos ep\u00e4tosi"
     ],
     "language": "python",
     "metadata": {},
     "outputs": []
    },
    {
     "cell_type": "code",
     "collapsed": false,
     "input": [
      "1==1 "
     ],
     "language": "python",
     "metadata": {},
     "outputs": []
    },
    {
     "cell_type": "code",
     "collapsed": false,
     "input": [
      "not 1==1"
     ],
     "language": "python",
     "metadata": {},
     "outputs": []
    },
    {
     "cell_type": "markdown",
     "metadata": {},
     "source": [
      "### Teht\u00e4v\u00e4:\n",
      "Kokeile sijoittaa muutama totuusarvo muuttujiin (esim. `a` ja `b`) ja kokeile itse `and`, `or` ja `not` operaattoreita."
     ]
    },
    {
     "cell_type": "code",
     "collapsed": false,
     "input": [],
     "language": "python",
     "metadata": {},
     "outputs": []
    },
    {
     "cell_type": "code",
     "collapsed": false,
     "input": [],
     "language": "python",
     "metadata": {},
     "outputs": []
    },
    {
     "cell_type": "code",
     "collapsed": false,
     "input": [],
     "language": "python",
     "metadata": {},
     "outputs": []
    },
    {
     "cell_type": "markdown",
     "metadata": {},
     "source": [
      "**XOR:** Osaatko tehd\u00e4 vertailun, joka palauttaa `True` vain jos jompikumpi vertailtavasta on tosi (ns. exclusive-or, xor)? Vinkki: k\u00e4yt\u00e4 muuttujia ja ryhmittele vertailuoperaattoreita suluilla. Esim:\n",
      "```python\n",
      ">>> not (True and (True or False))\n",
      "```"
     ]
    },
    {
     "cell_type": "code",
     "collapsed": false,
     "input": [],
     "language": "python",
     "metadata": {},
     "outputs": []
    },
    {
     "cell_type": "markdown",
     "metadata": {},
     "source": [
      "**Merkkijonojen vertailu:** Kokeile viel\u00e4 verrata merkkijonoja kesken\u00e4\u00e4n. Kokeile onko suurilla ja pienill\u00e4 kirjaimilla merkityst\u00e4. Yll\u00e4tyitk\u00f6?"
     ]
    },
    {
     "cell_type": "code",
     "collapsed": false,
     "input": [
      "\"test\" == \"test\""
     ],
     "language": "python",
     "metadata": {},
     "outputs": []
    },
    {
     "cell_type": "code",
     "collapsed": false,
     "input": [],
     "language": "python",
     "metadata": {},
     "outputs": []
    },
    {
     "cell_type": "markdown",
     "metadata": {},
     "source": [
      "<img src=\"files/images/logic.png\" />\n",
      "\n",
      "T\u00e4h\u00e4n menness\u00e4 olemme k\u00e4ytt\u00e4neet Pythonia l\u00e4hinn\u00e4 moneen hienoon temppuun taipuvana laskukoneena. Jotta pystyisimme kirjoittamaan tietokoneelle pidempi\u00e4 ohjeita, tulee meid\u00e4n tutustua keinoihin joilla ohjeiden **logiikka** kuvataan Pythonin kaltaisissa ohjelmointikieliss\u00e4. T\u00e4h\u00e4n on k\u00e4ytett\u00e4viss\u00e4 kaksi perustekniikkaa: **ehdot** ja **simukat**."
     ]
    },
    {
     "cell_type": "markdown",
     "metadata": {},
     "source": [
      "# 7. Ehtolause\n",
      "<img src=\"files/images/arrowtree.png\" />\n",
      "\n",
      "`if` -lause, eli ehtolause, on tapa pist\u00e4\u00e4 tietokone p\u00e4\u00e4tt\u00e4m\u00e4\u00e4n mit\u00e4 sen tulisi koodia tulkitessaan seuraavaksi tehd\u00e4. \n",
      "\n",
      "Alla on muutamia esimerkkej\u00e4, joita saattaisit k\u00e4ytt\u00e4\u00e4 tosiel\u00e4m\u00e4n p\u00e4\u00e4t\u00f6ksentekoon:\n",
      "\n",
      "\"**Jos** olet n\u00e4lk\u00e4inen, menn\u00e4\u00e4n lounaalle.\"\n",
      "\n",
      "\"**Jos** roskis on t\u00e4ynn\u00e4, mene ja tyhj\u00e4\u00e4 se.\""
     ]
    },
    {
     "cell_type": "markdown",
     "metadata": {},
     "source": [
      "Alla esimerkki siit\u00e4, miten samankaltainen asia ilmaistaisiin Python-koodissa:\n",
      "\n",
      "```python\n",
      ">>> nimi = \"Jussi\"\n",
      ">>> if name == \"Jussi\":\n",
      ">>> \u00b7\u00b7\u00b7\u00b7print(\"Moi Jussi!\")\n",
      "```\n",
      "`Moi Jussi!`"
     ]
    },
    {
     "cell_type": "markdown",
     "metadata": {},
     "source": [
      "> **Huomattavaa:** Pythonissa ehtolauseen j\u00e4lkeen tulee kaksoispiste, joka puolestaan kertoo ett\u00e4 seuraavalta rivilt\u00e4 alkaa uusi **lohko**. Lohko on p\u00e4tk\u00e4 ohjelmakoodia, joka kuuluu yhteen, ja jonka tietokone suorittaa kokonaisuutena rivi kerrallaan (ylh\u00e4\u00e4lt\u00e4 alas). Lohko on sisennetty **nelj\u00e4ll\u00e4 v\u00e4lily\u00f6nnill\u00e4** ja kaikki samaan tasoon sisennetyt per\u00e4kk\u00e4iset rivit kuuluvat samaan lohkoon (yll\u00e4 olevassa esimerkiss\u00e4 pisteet tarkoittavat v\u00e4lily\u00f6ntej\u00e4, ja ovat siin\u00e4 n\u00e4kyvill\u00e4 vain siksi, ett\u00e4 v\u00e4lily\u00f6ntien k\u00e4ytt\u00f6 tulisi selvemm\u00e4ksi)."
     ]
    },
    {
     "cell_type": "markdown",
     "metadata": {},
     "source": [
      "Mutta ent\u00e4 jos henkil\u00f6 ei olekaan Jussi? Pythonissa on varattu sana `else` n\u00e4it\u00e4 tilanteita varten:\n",
      "\n",
      "```python\n",
      ">>> if name==\"Jussi\":\n",
      ">>> \u00b7\u00b7\u00b7\u00b7print(\"Moi Jussi!\")\n",
      ">>> else:\n",
      ">>> \u00b7\u00b7\u00b7\u00b7print(\"Hujari!\")\n",
      "```\n",
      "\n",
      "Jos taas henkil\u00f6it\u00e4 on enemm\u00e4n, voidaan k\u00e4ytt\u00e4\u00e4 sanaa `elif` t\u00e4m\u00e4n toisen ehdon tarkastamiseen:\n",
      "\n",
      "```python\n",
      ">>> if name==\"Jussi\":\n",
      ">>> \u00b7\u00b7\u00b7\u00b7print(\"Moi Jussi!\")\n",
      ">>> elif name==\"Aki\":\n",
      ">>> \u00b7\u00b7\u00b7\u00b7print(\"Hei Aki!\")\n",
      ">>> else:\n",
      ">>> \u00b7\u00b7\u00b7\u00b7print(\"Kuka sin\u00e4 olet?\")\n",
      "```\n",
      "\n",
      "> **Huomattavaa:**\n",
      "* `elif` -ehto tarkastetaan *vain jos mik\u00e4\u00e4n ennen sit\u00e4 olevista ehdoista ei toteutunut*.\n",
      "* `else` -lohko suoritetaan *vain jos mik\u00e4\u00e4n aiempi ehto ei toteutunut*.\n",
      "\n",
      ">Toisinsanoen: `if`/`elif`/`else` rakenteesta suoritetaan aina vain yksi haara (lohko)."
     ]
    },
    {
     "cell_type": "markdown",
     "metadata": {},
     "source": [
      "### Teht\u00e4v\u00e4:\n",
      "Kirjoita koodinp\u00e4tk\u00e4, joka tulostaa ruudulle \"Yeah!\" jos muuttuja nimelt\u00e4 `color` on `\"yellow\"`:"
     ]
    },
    {
     "cell_type": "code",
     "collapsed": false,
     "input": [],
     "language": "python",
     "metadata": {},
     "outputs": []
    },
    {
     "cell_type": "markdown",
     "metadata": {},
     "source": [
      "Lis\u00e4\u00e4 ehtoon viel\u00e4 `elif` ja `else` -haarat, joissa tutkit onko muuttujassa jokin toinen v\u00e4ri ja jos on, tulostat jotain muuta nokkelaa."
     ]
    },
    {
     "cell_type": "markdown",
     "metadata": {},
     "source": [
      "# 8. Silmukat\n",
      "\n",
      "<img src=\"files/images/loop.png\" />\n",
      "\n",
      "Toinen perusrakenne ohjelmointikieliss\u00e4 on **silmukat**. Sit\u00e4 k\u00e4ytet\u00e4\u00e4n kun halutaan, ett\u00e4 tietokone toistaa jokin asia monta kertaa. Silmukoita on kahdenlaisia:\n",
      "* *Laskevat* silmukat, jotka toistetaan tietyn monta kertaa\n",
      "* *Ehdolliset* silmukat, joita toisteaan kunnes jokin ehto t\u00e4yttyy"
     ]
    },
    {
     "cell_type": "markdown",
     "metadata": {},
     "source": [
      "## Laskeva silmukka\n",
      "Laskevat silmukat kirjoitetaan pythonissa k\u00e4ytt\u00e4en `for`-avainsanaa ja siksi niit\u00e4 sanotaankin `for`-silmukoiksi. Silmukka vaatii my\u00f6s nimetyn **laskumuuttujan** (esimerkiss\u00e4 `numero`), `in`-avainsanan ja esim. listan numeroita, jotka silmukan laskumuuttuja saa j\u00e4rjestyksess\u00e4 yksi toisensa j\u00e4lkeen. Huomaa my\u00f6s kaksoispiste rivin lopussa ja uuden lohkon merkiksi tehty sisennys:"
     ]
    },
    {
     "cell_type": "code",
     "collapsed": false,
     "input": [
      "for numero in [1,2,3,4,5]:\n",
      "    print(\"Hei\", numero)"
     ],
     "language": "python",
     "metadata": {},
     "outputs": []
    },
    {
     "cell_type": "markdown",
     "metadata": {},
     "source": [
      "### Teht\u00e4v\u00e4:\n",
      "Kirjoita koodinp\u00e4tk\u00e4, joka laskee kertoman (merkit\u00e4\u00e4n matematiikassa huutomerkill\u00e4 `!`), eli kertoo per\u00e4kk\u00e4iset numerot kesken\u00e4\u00e4n. Esim.\n",
      "\n",
      "```5! = 5*4*3*2*1```\n",
      "\n",
      "K\u00e4yt\u00e4 muuttujaa, johon s\u00e4il\u00f6t tuloksen. Pitkien lukulistojen kirjoittaminen on ty\u00f6l\u00e4st\u00e4, joten kannattaa k\u00e4ytt\u00e4\u00e4 Pythoniin sis\u00e4\u00e4nrakennettua `range(a,b)`-funktiota, joka tekee sinulle lukulistan `a`:sta `b`:hen. Havainnollistava esimerkki alla:"
     ]
    },
    {
     "cell_type": "code",
     "collapsed": false,
     "input": [
      "list( range(1,5) ) # voit for-silmukassa j\u00e4tt\u00e4\u00e4 list(...)-osan pois."
     ],
     "language": "python",
     "metadata": {},
     "outputs": []
    },
    {
     "cell_type": "markdown",
     "metadata": {},
     "source": [
      "## Ehdollinen silmukka\n",
      "Ehdollinen silmukka py\u00f6rii kunnes joku ehto t\u00e4yttyy (tai j\u00e4\u00e4 t\u00e4yttym\u00e4tt\u00e4). Pythonissa t\u00e4m\u00e4 on toteutettavissa `while(...):` rakenteella, miss\u00e4 sulkujen sis\u00e4\u00e4n tulee tutkittava ehto ja alle toistettava koodilohko."
     ]
    },
    {
     "cell_type": "code",
     "collapsed": false,
     "input": [
      "lkm = 1\n",
      "while (lkm<4):\n",
      "    print ('toistojen lukum\u00e4\u00e4r\u00e4 on', lkm)\n",
      "    lkm = lkm+1"
     ],
     "language": "python",
     "metadata": {},
     "outputs": []
    },
    {
     "cell_type": "markdown",
     "metadata": {},
     "source": [
      "> **Huomattavaa:** on t\u00e4rke\u00e4\u00e4, ett\u00e4 ehto j\u00e4\u00e4 t\u00e4yttym\u00e4tt\u00e4 edes joskus, sill\u00e4 muuten kyseess\u00e4 on p\u00e4\u00e4ttym\u00e4t\u00f6n silmukka. Niillekin on paikkansa, mutta yleens\u00e4 ohjelma menee ns. jumiin, jos se j\u00e4\u00e4 py\u00f6rim\u00e4\u00e4n t\u00e4llaiseen."
     ]
    },
    {
     "cell_type": "markdown",
     "metadata": {},
     "source": [
      "###Teht\u00e4v\u00e4:\n",
      "K\u00e4y edell\u00e4 olevaa esimerkki\u00e4 rivi rivilt\u00e4 p\u00e4\u00e4ss\u00e4si l\u00e4pi suorittaen sit\u00e4 tietokoneen lailla askel kerrallaan. Huomioi miss\u00e4 vaihessa muuttujan arvoa kasvatetaan ja miss\u00e4 vaiheessa ehdon tarkastus tehd\u00e4\u00e4n."
     ]
    },
    {
     "cell_type": "markdown",
     "metadata": {},
     "source": [
      "# 9. Aliohjelmat\n",
      "Ajattele keksirepseti\u00e4:\n",
      "<img src=\"files/images/resepti.png\" />\n",
      "\n",
      "Kumpi on helpompaa, noudattaa resepti\u00e4, vai kysy\u00e4 \u00e4idilt\u00e4, ett\u00e4 \"leipoisitko keksej\u00e4\"? Pyynt\u00f6 on verrattavissa aliohjelmakutsuun, sill\u00e4 **aliohjelma** on joukko yhteen liittyvi\u00e4 ohjeita paketoituna nimetyksi kokonaisuudeksi.\n",
      "\n",
      "T\u00e4m\u00e4 on k\u00e4tev\u00e4\u00e4, sill\u00e4 vaikka reseptin seuraaminen meilt\u00e4 onnistuisikin, on pyyt\u00e4minen **huomattavasti helpompaa**. Ja asioiden tekeminen helpommin, tehokkaammin ja nopeammin on pitk\u00e4lti se, mist\u00e4 ohjelmoinnissa on kyse.\n",
      "\n",
      "## Aliohjelmien syntaksi (eli kirjoitustapa)\n",
      "Pythoniksi muutettuna t\u00e4m\u00e4 kaunis pyynt\u00f6 saada tuoreita pikkuleipi\u00e4 voitaisiin ilmaista vaikka n\u00e4in:\n",
      "\n",
      "```!Python\n",
      "pikkuleivat = leivo_pikkuleipia(montako_tarvitaan)\n",
      "```\n",
      "\n",
      "T\u00e4ss\u00e4 `leivo_pikkuleipia` on **aliohjelman nimi** ja `montako_tarvitaan` on **parametri**, joka m\u00e4\u00e4r\u00e4\u00e4 sen kuinka suurelle joukolle (eli monikokertaisen pikkuleip\u00e4taikinan) \u00e4iti leipoo.\n",
      "\n",
      "Pythonissa aliohjelmat **esitell\u00e4\u00e4n** `def`-avainsanaa k\u00e4ytt\u00e4en, jonka j\u00e4lkeen annetaan sille nimi ja sulut. Esittelyrivi p\u00e4\u00e4ttyy *kaksoispisteeseen*, ja seuraavalla rivill\u00e4 on aliohjelman toteutuksen m\u00e4\u00e4rittelev\u00e4 koodilohko, eli **aliohjelman runko**.\n",
      "\n",
      "Aliohjelmaa **kutsutaan** kirjoittamalla sen nimi ja sulut:\n"
     ]
    },
    {
     "cell_type": "code",
     "collapsed": false,
     "input": [
      "def moikkaa_mua(): # t\u00e4m\u00e4 on aliohjelman esittely\n",
      "    print(\"moi\")\n",
      "    \n",
      "moikkaa_mua() # t\u00e4m\u00e4 on aliohjelmakutsu"
     ],
     "language": "python",
     "metadata": {},
     "outputs": []
    },
    {
     "cell_type": "markdown",
     "metadata": {},
     "source": [
      "> **Huomattavaa:** esittelyn ja kutsumisen eron ymm\u00e4rt\u00e4minen on hyvin t\u00e4rke\u00e4\u00e4. Siis kertauksena: **esittelyss\u00e4** kerrotaan yksityiskohtaisesti miten joku asia tehd\u00e4\u00e4n ja **kutsuttaessa** pyydet\u00e4\u00e4n tekem\u00e4\u00e4n kyseinen asia!"
     ]
    },
    {
     "cell_type": "markdown",
     "metadata": {},
     "source": [
      "Aliohjelmalle voidaan lis\u00e4t\u00e4 parametreja kirjoittamalla ne sulkujen v\u00e4liin. N\u00e4it\u00e4 **parametrimuuttujia** voidaan sitten k\u00e4ytt\u00e4\u00e4 aliohjelman lohkon koodissa kuten mit\u00e4 tahansa muuttujaa. Huomaa, ett\u00e4 jos aliohjelmalle on lis\u00e4tty parametri, t\u00e4ll\u00f6in my\u00f6s aliohjelman kutsussa pit\u00e4\u00e4 antaa kyiseiselle parametrimuuttujalle arvo. (suorita alla oleva koodi)"
     ]
    },
    {
     "cell_type": "code",
     "collapsed": false,
     "input": [
      "def moikkaa_kaveria(nimelta): #esittely\n",
      "    print(\"moi\", nimelta)\n",
      "    \n",
      "moikkaa_kaveria(\"Jussi\")"
     ],
     "language": "python",
     "metadata": {},
     "outputs": []
    },
    {
     "cell_type": "markdown",
     "metadata": {},
     "source": [
      "###Teht\u00e4v\u00e4:\n",
      "Kutsu edell\u00e4 esitelty\u00e4 `moikkaa_kaveria`-aliohjelmaa niin, ett\u00e4 se moikkaa sinua. Esittele sitten uusi aliohjelma, joka ottaa kaksi parametria (parametrit erotetaan toisistaan pilkulla): tervehdyksen ja listan nimi\u00e4 ja moikkaa kaikkia listassa olevia henkil\u00f6it\u00e4 (kts. `for`-silmukan ja listan ohjeet ylt\u00e4, jos et muista miten niit\u00e4 k\u00e4ytettiin)."
     ]
    },
    {
     "cell_type": "code",
     "collapsed": false,
     "input": [],
     "language": "python",
     "metadata": {},
     "outputs": []
    },
    {
     "cell_type": "code",
     "collapsed": false,
     "input": [],
     "language": "python",
     "metadata": {},
     "outputs": []
    },
    {
     "cell_type": "markdown",
     "metadata": {},
     "source": [
      "## Aliohjelmien paluuarvot\n",
      "\n",
      "K\u00e4yt\u00e4mme edelleen pikkuleipi\u00e4 leipovaa \u00e4iti\u00e4 apuna:\n",
      "\n",
      "```!Python\n",
      "pikkuleivat = leivo_pikkuleipia(montako_tarvitaan)\n",
      "```\n",
      "\n",
      "Rivin alkuun on nyt lis\u00e4tty `pikkuleivat`-muuttuja ja yht\u00e4suuruusmerkki. T\u00e4h\u00e4n muuttujaan puolestaan sijoitetaan **aliohjelman paluuarvo**, eli valmistuneet pikkuleiv\u00e4t.\n",
      "\n",
      "T\u00e4ss\u00e4 yhteydess\u00e4 toinen hy\u00f6dyllinen tapa ajatella aliohjelmia on *tehdasvertaus*:  Aliohjelma on kuin tehdas, minne menee raaka-aineita sis\u00e4\u00e4n (parametrit) ja ulos tulee valmis tuote (paluuarvo). Emme nimitt\u00e4in ole kiinnostuneita siit\u00e4 *miten* tehdas toimii, kunhan se vain tekee sen mit\u00e4 lupaa.\n",
      "\n",
      "Aliohjelman esittelyn yhteydess\u00e4, sen koodilohkossa, k\u00e4ytt\u00e4m\u00e4ll\u00e4 `return`-avainsanaa, voidaan lopettaa aliohjelma samalla palauttaen jokin arvo. Esimerkiksi n\u00e4in (suorita alla oleva koodi):"
     ]
    },
    {
     "cell_type": "code",
     "collapsed": false,
     "input": [
      "def tuplaa(numero): #esittely\n",
      "    return numero*2\n",
      "\n",
      "tuplaa (4) #kutsu"
     ],
     "language": "python",
     "metadata": {},
     "outputs": []
    },
    {
     "cell_type": "markdown",
     "metadata": {},
     "source": [
      "###Teht\u00e4v\u00e4:\n",
      "Tuplaa 12 k\u00e4ytt\u00e4en `tuplaa`-aliohjelmaa.\n",
      "\n",
      "Tai, mit\u00e4 tapahtuu jos tuplaat oman nimesi? Kokeile."
     ]
    },
    {
     "cell_type": "code",
     "collapsed": false,
     "input": [],
     "language": "python",
     "metadata": {},
     "outputs": []
    },
    {
     "cell_type": "code",
     "collapsed": false,
     "input": [],
     "language": "python",
     "metadata": {},
     "outputs": []
    },
    {
     "cell_type": "markdown",
     "metadata": {},
     "source": [
      "## Yhteenveto aliohjelmista\n",
      "Opimme paljon Pythonin aliohjelmista, mutta kerrataan viel\u00e4:\n",
      "\n",
      "* Aliohjelmat **esitell\u00e4\u00e4n** `def`-avainsanalla\n",
      "* Aliohjelmia **kutsutaan** kirjoittamalla sen nimi+**sulut**\n",
      "* Aliohjelmakutsun sulkujen v\u00e4liin kirjoitetaan mahdolliset **parametrien** arvot pilkuilla eroteltuna\n",
      "* Jos aliohjelma palauttaa **paluuarvon**, sen voi ottaa talteen muuttujaan yht\u00e4suuruusmerkeill\u00e4\n",
      "* Aliohjelman **runkolohkossa** voi lopettaa aliohjelman suorituksen ja palauttaa **paluuarvon** `return`-avainsanalla."
     ]
    },
    {
     "cell_type": "markdown",
     "metadata": {},
     "source": [
      "# 10. Sy\u00f6te\n",
      "Sy\u00f6te on tietoa, jota sy\u00f6t\u00e4mme ohjelmalle. T\u00e4m\u00e4 tieto voidaan sitten vaikkapa v\u00e4litt\u00e4\u00e4 aliohjelmalle tai n\u00e4ytt\u00e4\u00e4 se ruuudulla.\n",
      "\n",
      "Pythonissa on sis\u00e4\u00e4nrakennettu aliohjelma nimelt\u00e4 `input()`, joka kysyy k\u00e4ytt\u00e4j\u00e4lt\u00e4 jotain. Esimerkki alla (suorita se ja vastaa kysymyksiin):"
     ]
    },
    {
     "cell_type": "code",
     "collapsed": false,
     "input": [
      "def sano_kohteliaisuus():\n",
      "    print(\"Kirjoita nimesi:\")\n",
      "    nimi = input()\n",
      "    print(\"Kirjoita lempinumerosi:\")\n",
      "    vari = int(input())\n",
      "    print(\"Hei\",nimi+\",\", vari, \"on sitten hyv\u00e4 numero.\")\n",
      "    \n",
      "sano_kohteliaisuus()"
     ],
     "language": "python",
     "metadata": {},
     "outputs": []
    },
    {
     "cell_type": "markdown",
     "metadata": {},
     "source": [
      "## Teht\u00e4v\u00e4:\n",
      "Kirjoita koodi, joka kysyy kaksi numeroa ja laskee ne yhteen."
     ]
    },
    {
     "cell_type": "code",
     "collapsed": false,
     "input": [],
     "language": "python",
     "metadata": {},
     "outputs": []
    },
    {
     "cell_type": "markdown",
     "metadata": {},
     "source": [
      "# 11. Modulit\n",
      "*\"Py\u00f6r\u00e4\u00e4 ei kannata keksi\u00e4 uudelleen\"* on sanonta, joka p\u00e4tee erityisen hyvin koodauksessa. Suuri osa yksinkertaisista koodausteht\u00e4vist\u00e4 on jo tehty, ja usein nopein tapa saada asioita aikaan on uudelleenk\u00e4ytt\u00e4\u00e4 jonkun toisen kirjoittamaa ohjelmakoodia. \n",
      "\n",
      "Pythonin tarjoama ratkaisu t\u00e4h\u00e4n on modulit. Voit ajatella modulia vaikka kokoelmana yhteen littyvi\u00e4 aliohjelmia, jotka tekev\u00e4n jonkin teht\u00e4v\u00e4n tekemisest\u00e4 helppoa. Ne ovat tavallaan ohjelmoinnin leegopalikoita. Pythonin mukana tulee koko joukko moduleita, tutustutaan alla niist\u00e4 muutamaan:\n",
      "\n",
      "*Satunnaisen numeron arpominen v\u00e4lilt\u00e4 1-100:*\n",
      "```python\n",
      ">>> import random\n",
      ">>> print( random.randint(1,100) )\n",
      "```\n",
      "\n",
      "*Kellonajan tarkistaminen:*\n",
      "```python\n",
      ">>> from datetime import datetime\n",
      ">>> print( datetime.now() )\n",
      "```\n",
      "* `from X import Y` tarkoittaa t\u00e4ss\u00e4 sit\u00e4, ett\u00e4 haemme `datetime` modulista vain `datetime` nimisen \"palikan\".\n",
      "\n",
      "*Kalenterin tulostaminen:*\n",
      "```python\n",
      ">>> import calendar\n",
      ">>> calendar.prmonth(2015, 9)\n",
      "```\n",
      "\n",
      "Kokeile itse k\u00e4ytt\u00e4\u00e4 esimerkkien moduleita kirjoittamalla niiden koodi alle (huomaa, ett\u00e4 \"`>>>`\" EI ole osa kopioitavaa koodia):\n",
      "\n"
     ]
    },
    {
     "cell_type": "code",
     "collapsed": false,
     "input": [],
     "language": "python",
     "metadata": {},
     "outputs": []
    },
    {
     "cell_type": "code",
     "collapsed": false,
     "input": [],
     "language": "python",
     "metadata": {},
     "outputs": []
    },
    {
     "cell_type": "code",
     "collapsed": false,
     "input": [],
     "language": "python",
     "metadata": {},
     "outputs": []
    },
    {
     "cell_type": "markdown",
     "metadata": {},
     "source": [
      "Alla esitell\u00e4\u00e4n esimerkkien avulla viel\u00e4 pari mielenkiintoista modulia. Sis\u00e4\u00e4nrakennettuja moduleita voit selata [Pythonin dokumentaation modulilistasta](https://docs.python.org/3/py-modindex.html). Lis\u00e4ksi netti on puolellaan kolmannen osapuolen moduleita, tarpeeseen jos toiseenkin."
     ]
    },
    {
     "cell_type": "code",
     "collapsed": false,
     "input": [
      "import os\n",
      "for tiedosto in os.listdir( os.getcwd() ):\n",
      "    print(tiedosto)"
     ],
     "language": "python",
     "metadata": {},
     "outputs": []
    },
    {
     "cell_type": "code",
     "collapsed": false,
     "input": [
      "import urllib\n",
      "py_home = urllib.request.urlopen(\"http://www.python.org\")\n",
      "print(py_home.read()) #Tulostaa pythonin kotisivun HTML-muodossa."
     ],
     "language": "python",
     "metadata": {},
     "outputs": []
    },
    {
     "cell_type": "markdown",
     "metadata": {},
     "source": [
      "##Teht\u00e4v\u00e4:\n",
      "Hy\u00f6dynn\u00e4 \u00e4sken ja aiemmin oppimaasi ja kirjoita alle peli, joka arpoo satunnaisen numeron (`random`), ja pyyt\u00e4\u00e4 sinua arvaamaan sen (`print`, `input`) kunnes (`while`) osut oikeaan. Voit rullailla yl\u00f6sp\u00e4in t\u00e4t\u00e4 Notebookia, jos et muista jotain yksityiskohtaa. Jos peli tuntuu liian vaikealta, voit laittaa ohjelman tulostamaan vinkkej\u00e4, kuten \"luku on pienempi\" tai \"polttaa\"."
     ]
    },
    {
     "cell_type": "code",
     "collapsed": false,
     "input": [],
     "language": "python",
     "metadata": {},
     "outputs": []
    },
    {
     "cell_type": "markdown",
     "metadata": {},
     "source": [
      "# 12. Kilpikonnagrafiikkaa\n",
      "\n",
      "Pythonissa on er\u00e4s mielenkiintoinen moduli nimelt\u00e4 `turtle`, jolla leikimme seuraavaksi. Kyseess\u00e4 on omassa ikkunassaan asuva kilpikonna, jota ohjaat kirjoittamalla koodia. Kilpikonnaikkunan saat auki suorittamalla alla olevan koodin:"
     ]
    },
    {
     "cell_type": "code",
     "collapsed": false,
     "input": [
      "import turtle\n",
      "turtle.reset()\n",
      "\n",
      "#Kirjoita kilpikonnan ohjauskoodi t\u00e4h\u00e4n\n",
      "turtle.fd(100)\n",
      "\n",
      "turtle.Screen().mainloop()"
     ],
     "language": "python",
     "metadata": {},
     "outputs": []
    },
    {
     "cell_type": "markdown",
     "metadata": {},
     "source": [
      "Kun ajat kodin kilpikonna vain k\u00f6k\u00f6tt\u00e4\u00e4 paikallaan. Pistet\u00e4\u00e4n siihen v\u00e4h\u00e4n liikett\u00e4. **ENSIN KUITENKIN SULJE AUENNUT KILPIKONNAIKKUNA RUKSISTA. JOS ET TEE T\u00c4T\u00c4, ET N\u00c4E MUUTTUNEEN KOODIN VAIKUTUKSIA.**\n",
      "\n",
      "Alla joitain \"temppuja\", mit\u00e4 kilpikonna osaa:\n",
      "```python\n",
      "turtle.forward(10) # kilppari kulkee eteenp\u00e4in annetun m\u00e4\u00e4r\u00e4n askelia\n",
      "turtle.right(45) # kilppari k\u00e4\u00e4ntyy annetun m\u00e4\u00e4r\u00e4n asteita oikealle\n",
      "turtle.left(90) # kilppari k\u00e4\u00e4ntyy annetun m\u00e4\u00e4r\u00e4n asteita oikealle\n",
      "```\n",
      "\n",
      "##Teht\u00e4v\u00e4:\n",
      "K\u00e4yt\u00e4 n\u00e4it\u00e4 kolmea k\u00e4sky\u00e4 ja silmukoita tuottaaksesi erilaisia toinen toistaan villimpi\u00e4 kuvioita. Voit kirjoittaa koodin yll\u00e4 olevaan runkoon. Huom: Komennot ovat my\u00f6s lyhennett\u00e4viss\u00e4 `fd`, `rt`, `lt` jne.\n",
      "\n",
      "Jos j\u00e4it koukkuun, [Pythonin turtle-modulin dokumentaatiosta](https://docs.python.org/3/library/turtle.html) voit lukea mit\u00e4 kaikkia temppuja Python-kilppari osaa. Voit mm. vaihtaa ikkunan taustav\u00e4ri\u00e4, kilpikonnan muotoa, viivan paksuutta ja v\u00e4ri\u00e4 jne.\n"
     ]
    },
    {
     "cell_type": "markdown",
     "metadata": {},
     "source": [
      "##Lis\u00e4teht\u00e4v\u00e4: \n",
      "Dokumentaatiota lukemalla paljastuu, ett\u00e4 kilpikonnaikkunan kautta voi lukea hiiren ja n\u00e4pp\u00e4imist\u00f6n painalluksia. T\u00e4m\u00e4 mahdollistaa jo vaikka mit\u00e4! Kokeile mit\u00e4 alla oleva koodi tekee ja jatkokehit\u00e4 koodia vaikka peliksi asti!"
     ]
    },
    {
     "cell_type": "code",
     "collapsed": false,
     "input": [
      "import turtle \n",
      "turtle.reset()\n",
      "\n",
      "def painettu_ylos():\n",
      "    turtle.setheading(90)\n",
      "    turtle.forward(20)\n",
      "    \n",
      "def painettu_alas():\n",
      "    turtle.setheading(-90)\n",
      "    turtle.forward(20)\n",
      "    \n",
      "def painettu_vasemmalle():\n",
      "    turtle.setheading(180)\n",
      "    turtle.forward(20)\n",
      "    \n",
      "def painettu_oikealle():\n",
      "    turtle.setheading(0)\n",
      "    turtle.forward(20)\n",
      "    \n",
      "# Kiinnitet\u00e4\u00e4n n\u00e4pp\u00e4imenpainallukset edell\u00e4 oleviin aliohjelmiin\n",
      "#  kun n\u00e4pp\u00e4int\u00e4 painetaa, aliohjelmaa kutsutaan.\n",
      "screen = turtle.Screen()\n",
      "screen.onkey(painettu_ylos, \"w\")\n",
      "screen.onkey(painettu_vasemmalle, \"a\")\n",
      "screen.onkey(painettu_alas, \"s\")\n",
      "screen.onkey(painettu_oikealle, \"d\")\n",
      "screen.listen()\n",
      "screen.mainloop()"
     ],
     "language": "python",
     "metadata": {},
     "outputs": []
    },
    {
     "cell_type": "markdown",
     "metadata": {},
     "source": [
      "<img src=\"files/images/congratulations.png\"/>\n",
      "Onneksi olkoon, olet nyt oppinut pythonin perusteet ja sit\u00e4 mukaa kun otat edell\u00e4 oppimaasi haltuun, voit rakentaa aina vain isompia ja hienompia juttuja. Ai mit\u00e4 vai? No t\u00e4ss\u00e4 joitain esimerkkej\u00e4:\n",
      "\n",
      "* Voit kirjoittaa pelej\u00e4 (googleta `\"pygame-zero\"`)\n",
      "* Toistaa ja tehd\u00e4 musiikkia ja videoita (googleta `\"pymedia\"`)\n",
      "* Rakentaa verkkosivuja ja -sovelluksia (googleta `\"python flask\"`)\n",
      "* Rakentaa mobiilisovelluksia ja -pelej\u00e4 (googleta `\"kivy\"`)\n",
      "* Tehd\u00e4 matematiikan, fysiikan ja muiden aineiden kotiteht\u00e4vi\u00e4 (googleta `\"scientific python\"` tai `\"<opetettavan aiheen englanninkielinen avainsana t\u00e4h\u00e4n> python\"`)\n",
      "\n",
      "T\u00e4m\u00e4 on mahdollista koska kaikkeen l\u00f6ytyy Python -moduli:\n",
      "<img src=\"http://imgs.xkcd.com/comics/python.png\"/>\n"
     ]
    }
   ],
   "metadata": {}
  }
 ]
}