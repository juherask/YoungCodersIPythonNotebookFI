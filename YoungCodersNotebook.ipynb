{
  "cells": [
    {
      "metadata": {},
      "cell_type": "markdown",
      "source": "![Opi Python Logo](images/letslearnpython.png)\n\n# OPI PYTHONIN PERUSTEET\n\nTämä interaktiivinen harjoituskokoelma opettaa sinulle Python-ohjelmointikielen alkeet. Opas seurailee PyCon 2014 -tapahtumassa Barbara Shauretten ja Katie Cunninghamin pitämän Python-koulutuksen rakennetta.\n\n> Jos haluat tämän suomenkielisen oppaan sijaan tutustua englanninkieliseen alkuperäismateriaaliin (kalvot, esimerkit ym.), ne ovat ladattavissa täältä:\n> https://github.com/mechanicalgirl/young-coders-tutorial"
    },
    {
      "metadata": {},
      "cell_type": "markdown",
      "source": "![Mitä ohjelmointi on](images/whatprog.png)\n\nMitä **ohjelmoinnilla** tarkoitetaan:\n* **Tietokone** on laite joka paitsi **säilöö**, myös **siirtää**, **järjestää**, **luo** ja **hallitsee** tietoa (eli _dataa_).\n* **Tietokoneohjelma** puolestaan on joukko yksikäsitteisiä **ohjeita**, jotka kertovat tietokoneelle mitä datalle pitäisi tehdä. **Ohjelmointikieli** on se erityinen kieli, millä nämä ohjeet kirjoitetaan.\n* Alla on joitain esimerkkejä ohjeista, jotka on tarkoitettu meille ihmisille (origamilinnun taitteluohje, pikkuleipäresepti ja kirjan sidontaohje):\n\n![Ohje-esimerkki](images/instructions.png)\n\n* Heti alkuun on hyvä sisäistää, että tietokone on kovin tyhmä. Se ymmärrä yllä olevan esimerkin kaltaisia oheita, vaikka ne ovat ihmiselle päivänselviä. Tietokoneelle ohjeet pitää kirjoittaa todella yksityiskohtaisesti, huolellisesti ja tarkasti, sillä se toimii **täsmälleen** kuten ohjeistettu. Tämä ohjeiden kirjoittaminen jollain ohjelmointikielellä on **ohjelmointia** - eli juuri sitä, mitä tämä opas opettaa.\n* **Algoritmilla** tarkoitetaan ohjeita jonkin tietyn asian tekemiseksi tietokoneella - usein tehokkaalla ja nopealla tavalla. Algoritmit ovat kuin reseptejä, eli askel-askeleelta eteneviä ohjeita, joiden lopputulos on haluttu (esim. kanelipulla tai aakkosjärjestykseen saatettu lista nimiä).\n\n"
    },
    {
      "metadata": {},
      "cell_type": "markdown",
      "source": "![Puhu Pythonia](images/talkpy.png)\n\nPian kokeilemme kirjoittaa ohjeita tietokoneelle, mutta ensin on hyvä tietää, että ohjelmointikieliä on olemassa valtavasti erilaisia - eri käyttötarkoituksiin. Tässä oppaassa opettelemme ohjelmointikieltä nimeltä **Python**, joka on aloittelijaystävällinen ja silti valtavan tehokas ja ilmaisuvoimainen kieli.\n\nPython voi näyttäytyä ohjelmoijalle monessa muodossa:\n1. Yksinkertaisin tapa käyttää Pythonia on Python-komentotulkki, jonne kirjoitetaan komentoja, jotka tulkki sitten välittämästi suorittaa. Komentotulkin kanssa vuoropuheluna voi tehdä laskutoimituksia, opiskella Pythonin käyttöä tai kokeilla erilaisten ideoiden toimivuutta.\n1. Komentotulkista on myös kehittyneempi ja käyttäjäystävällisempi versio nimeltä IPython. Se tarjoaa monenlaisia apuvälineitä Pythonin kirjoittamiseen: tiedostojen hallintaa, dokumentaatiota, erilaisia oikoteitä, komentohistorian ja paljon muuta.\n1. IPython Notebookin, jota nyt parhaillaan käytät, lähestymistapa on erilainen: käytössäsi on nettiselaimessa (Chrome, Firefox ym.) toimiva vuorovaikutteinen muistikirjan sivu, jonne voi kirjoittaa paitsi tekstiä, myös Python-ohjelmointikielisiä käskyjä.\n1. Python-ohjelmointikielellä voidaan myös tehdä itsenäisesti toimivia ohjelmia. Tällöin kirjoitetaan `.py`-tiedosto, joka annetaan tietokoneen suoritettavaksi. `.py`-tiedostojen kirjoittamiseen on monenlaisia työkaluja aina muistiosta tehokkaisiin integroituihin kehitysympäristöihin (_eng. IDE_). Näin tehty ohjelma voidaan jopa paketoida suoritettavaksi `.exe`-tiedostoksi.\n\n![Erilaisia Python-ympäristöjä](images/pythonviews.png)\n"
    },
    {
      "metadata": {},
      "cell_type": "markdown",
      "source": "# 1. Laskutoimituksia\nAloitetaan Python-ohjelmointi yksinkertaisella matematiikalla. Pythonia voi nimittäin käyttää kätevänä laskimena.\n\nNaksauta hiirellä alla oleva harmaa laatikko aktiivisiksi ja paina [⇧SHIFT] + [↵ENTER], jolloin Python suorittaa laskutoimituksen, kertoo tuloksen ja siirtyy seuraavaan laatikkoon."
    },
    {
      "metadata": {
        "trusted": true
      },
      "cell_type": "code",
      "source": "1+2",
      "execution_count": null,
      "outputs": []
    },
    {
      "metadata": {},
      "cell_type": "markdown",
      "source": "Hyvä! Tee sama uudelleen alla olevalle laatikolle."
    },
    {
      "metadata": {
        "trusted": true
      },
      "cell_type": "code",
      "source": "12-3",
      "execution_count": null,
      "outputs": []
    },
    {
      "metadata": {},
      "cell_type": "markdown",
      "source": "Kokeile nyt kirjoittaa itse alla olevaan harmaaseen laatikkoon seuraava laskutoimitus. \nÄlä kuitenkaan kopioi `>>>`-merkkejä, sillä ne ovat vain ilmaisemassa, että kyseessä on Python-koodi:\n```python\n>>> 9+5-15```"
    },
    {
      "metadata": {
        "trusted": true
      },
      "cell_type": "code",
      "source": "9+2",
      "execution_count": null,
      "outputs": []
    },
    {
      "metadata": {},
      "cell_type": "markdown",
      "source": "Paina sitten `[CTRL]` + `[↵ENTER]` ja Python laskee laskun, kertoo tuloksen **ja pitää kyseisen laatikon aktiivisena siltä varalta, että haluat muokata sen sisältöä.** Tämä siis erotuksena aiempaan [⇧SHIFT] + [↵ENTER] -komentoon, joka siirtyy heti eteenpäin. Toiminnolle löytyy myös [▶]-nappi yläreunan työkalupalkista."
    },
    {
      "metadata": {},
      "cell_type": "markdown",
      "source": "### Matemaattiset operaattorit\nPythonin matemaattiset perusoperaattorit ovat:\n* yhteenlasku: `+`\n* vähennyslasku: `-`\n* kertolasku: `*`\n* jakolasku: `/`\n\nKokeile vaikka näitä:\n```python\n>>> 6*5\n>>> 10*5*3\n>>> 6/2\n>>> 20/7\n```\nTai voit kokeilla laskea ihan itse keksimilläsi luvuilla. Kokeile myös operaattoria `**`. Keksitkö mitä se tekee?"
    },
    {
      "metadata": {
        "trusted": true
      },
      "cell_type": "code",
      "source": "2**2",
      "execution_count": null,
      "outputs": []
    },
    {
      "metadata": {
        "trusted": true
      },
      "cell_type": "code",
      "source": "",
      "execution_count": null,
      "outputs": []
    },
    {
      "metadata": {
        "trusted": true
      },
      "cell_type": "code",
      "source": "",
      "execution_count": null,
      "outputs": []
    },
    {
      "metadata": {
        "trusted": true
      },
      "cell_type": "code",
      "source": "2/3.0",
      "execution_count": null,
      "outputs": []
    },
    {
      "metadata": {},
      "cell_type": "markdown",
      "source": "> **Sivuhuomautus:** Pythonin 2.7 ja 3 versiot laskevat jakolaskun eri tavalla. Vanhempi ja käytöstä poistuva 2.7 saattaa tuottaa ikävän yllätyksen: `5/2` palauttaakin arvon `2`, eikä `2.5`. Jos Python 2.7:lla haluaa tarkan jakolaskun tuloksen on kirjoitettava `5.0/2.0`. Tässä pitää olla tarkkana, sillä Python 2.7 -ympäristöihin saattaa törmätä vielä ajoittain."
    },
    {
      "metadata": {},
      "cell_type": "markdown",
      "source": "> **Toinen sivuhuomautus:** Saatat huomata tehdessäsi omia laskuja, että tulos ei ole aivan sitä mitä odotit. Tällöin järjestys, missä Python suorittaa laskuoperaatot saattaa olla eri mitä tarkoitit. Voit pakottaa Pythonin laskemaan haluamassasi järjestyksessä lisäämällä sulkuja. Esimerkiksi `3+4+5/3` ei tuota samaa vastausta kuin `(3+4+5)/3`."
    },
    {
      "metadata": {
        "trusted": true
      },
      "cell_type": "code",
      "source": "",
      "execution_count": null,
      "outputs": []
    },
    {
      "metadata": {},
      "cell_type": "markdown",
      "source": "### Vertailuoperaattorit\n\n<table>\n<tr><td>\n`== `</td><td>tutkii ovatko luvut yhtäsuuret\n</td></tr>\n<tr><td>\n`!= `</td><td>tutkii ovatko luvut erisuuret\n</td></tr>\n<tr><td>\n`<  `</td><td>tarkistaa onko vasemmalla puolella oleva luku pienempi kuin oikealla puolella oleva\n</td></tr>\n<tr><td>\n`>  `</td><td>tarkistaa onko vasemmalla puolella oleva luku suurempi kuin oikealla puolella oleva\n</td></tr>\n<tr><td>\n`<= `</td><td>tarkistaa onko vasemmalla puolella oleva luku pienempi *tai yhtäsuuri* kuin oikealla puolella oleva\n</td></tr>\n<tr><td>\n`>= `</td><td>tarkistaa onko vasemmalla puolella oleva luku suurempi *tai yhtäsuuri* kuin oikealla puolella oleva\n</td></tr>\n</table>\n\nKokeile näitä alla. Esimerkiksi:\n```python\n>>> 5 < 4 + 3\n>>> 12 + 1 >= 12\n>>> 16 * 2 == 32\n>>> 16 != 16\n>>> 5 >= 6\n```\n"
    },
    {
      "metadata": {
        "trusted": true
      },
      "cell_type": "code",
      "source": "",
      "execution_count": null,
      "outputs": []
    },
    {
      "metadata": {
        "trusted": true
      },
      "cell_type": "code",
      "source": "",
      "execution_count": null,
      "outputs": []
    },
    {
      "metadata": {
        "trusted": true
      },
      "cell_type": "code",
      "source": "",
      "execution_count": null,
      "outputs": []
    },
    {
      "metadata": {
        "trusted": true
      },
      "cell_type": "code",
      "source": "",
      "execution_count": null,
      "outputs": []
    },
    {
      "metadata": {
        "trusted": true
      },
      "cell_type": "code",
      "source": "",
      "execution_count": null,
      "outputs": []
    },
    {
      "metadata": {},
      "cell_type": "markdown",
      "source": "Vertailuoperaatot ovat tärkeitä ohjelmoinnissa, kuten pian tulemme näkemään. Niiden avulla voimme ohjelmoida tietokoneen tekemään eri asioita eri tilanteissa."
    },
    {
      "metadata": {},
      "cell_type": "markdown",
      "source": "# 2. Merkkijonot\nPaitsi lukuja, käsittelevät tietokoneet myös paljon tekstimuotoista tietoa. Tekstimuotoinen tieto on tallennettu tietokoneelle jonona kirjoitusmerkkejä, eli tuttavallisemmin **merkkijonona**.\n\nPython tulkitsee merkkijonoksi tekstinpätkän, joka on lainausmerkkien välissä. Kokeile:\n```python\n>>> \"hello world\"\n>>> \"omppu\"\n>>> omppu\n```"
    },
    {
      "metadata": {
        "trusted": true
      },
      "cell_type": "code",
      "source": "\"hello world\"",
      "execution_count": null,
      "outputs": []
    },
    {
      "metadata": {
        "trusted": true
      },
      "cell_type": "code",
      "source": "",
      "execution_count": null,
      "outputs": []
    },
    {
      "metadata": {
        "trusted": true
      },
      "cell_type": "code",
      "source": "omppu",
      "execution_count": null,
      "outputs": []
    },
    {
      "metadata": {},
      "cell_type": "markdown",
      "source": "Viimeisen esimerkin, eli sen ompun, jota ei oltu ympyröity lainausmerkein, tuleekin antaa virhe. Virheisiin palaamme pian, mutta tässä esimerkin tarkoitus on iskostaa mieleesi seuraava sääntö: **jos haluat syöttää Pythonille merkkijonon, käytä lainausmerkkejä**"
    },
    {
      "metadata": {},
      "cell_type": "markdown",
      "source": "### Operaatioita merkkijonoille\nKuten luvuille, myös merkkijonoille voi tehdä erilaisia operaatioita:\n\n* yhdistäminen: `+`\n* toistaminen: `*`\n\nKatso ja kokeile mitä Python tekee kun annat sille seuraavat ohjeet:\n```python\n>>> \"Hei \" + \"muukalainen\"\n>>> \"HAHA\" * 100\n```"
    },
    {
      "metadata": {
        "trusted": true
      },
      "cell_type": "code",
      "source": "",
      "execution_count": null,
      "outputs": []
    },
    {
      "metadata": {
        "trusted": true
      },
      "cell_type": "code",
      "source": "",
      "execution_count": null,
      "outputs": []
    },
    {
      "metadata": {},
      "cell_type": "markdown",
      "source": "# 3. Muuttujat\nTutustuimme edellä siihen, miten lukuja ja merkkijonoja käsitellään Pythonilla. Seuraavaksi tutustumme ideaan, jota voi käyttää molempien kanssa - eli muuttujaan.\n\nMatematiikan tunnilta saatat muistaa **x**:n. Sitä käytettiin merkitsemään jotain tuntematonta (tai tunnettua) lukua. Ohjelmointikielessä nämä **muuttujat** toimivat hieman samalla tavalla.\n\nMuuttujat ovat kuin laatikoita, joiden sisään voit pakata numeroita, merkkijonoja tai muita \"juttuja\".\n\nLaske alla olevassa harmaassa laatikossa lasku:\n```python\n>>> 12 * 12 \n```"
    },
    {
      "metadata": {
        "trusted": true
      },
      "cell_type": "code",
      "source": "",
      "execution_count": null,
      "outputs": []
    },
    {
      "metadata": {},
      "cell_type": "markdown",
      "source": "Python kuitenkin unohtaa tuloksen heti. Entäs jos haluaisit, että vastaus pysyy muistissa? Voit laittaa tuloksen muistiin **sijoittamalla** sen nimettyyn muuttujaan:\n```python\n>>> tulos = 12 * 12\n>>> tulos\n```"
    },
    {
      "metadata": {
        "trusted": true
      },
      "cell_type": "code",
      "source": "",
      "execution_count": null,
      "outputs": []
    },
    {
      "metadata": {
        "trusted": true
      },
      "cell_type": "code",
      "source": "",
      "execution_count": null,
      "outputs": []
    },
    {
      "metadata": {},
      "cell_type": "markdown",
      "source": "Muuttujat säästävät aikaa ja vaivaa, sillä voit nyt käyttää muuttujaa `tulos` uudelleen ja uudellen tulevissa laskutoimituksissa ja ohjeissa. \n\n> Huomaa, että `tulos` ei ole lainausmerkeissä. Näin siksi, että se ei ole merkkijono, vaan muuttuja. Yleensä kannattaa käyttää kuvaavia muuttujan nimiä. Näin ei tarvitse turhaan arvailla ja selvitellä, että mitä muuttujassa on sisällä - nimi kertoo sen jo."
    },
    {
      "metadata": {},
      "cell_type": "markdown",
      "source": "Voit uudelleenkäyttää muuttujia. Sijoita vaan sinne uusi arvo. Esimerkiksi:"
    },
    {
      "metadata": {
        "trusted": true
      },
      "cell_type": "code",
      "source": "color = 'yellow'",
      "execution_count": null,
      "outputs": []
    },
    {
      "metadata": {
        "trusted": true
      },
      "cell_type": "code",
      "source": "color = 12",
      "execution_count": null,
      "outputs": []
    },
    {
      "metadata": {},
      "cell_type": "markdown",
      "source": "Mitä luulet 'color' muuttujassa nyt olevan? Kokeillaan (suorita kaikki tämän esimerkin kolme laatikkoa ylhäältä alas):"
    },
    {
      "metadata": {
        "trusted": true
      },
      "cell_type": "code",
      "source": "color",
      "execution_count": null,
      "outputs": []
    },
    {
      "metadata": {},
      "cell_type": "markdown",
      "source": "Muuttujat ovat ohjelmoinnissä hyvin tärkeitä. Siksi kertauksena:\n* Voit laittaa tulokset talteen muuttujaan ja käyttää näitä tuloksia myöhemmin\n* Voit vaihtaa muuttujan arvon vaikka sen nimi pysyy samana\n* Muuttujaan sijoitetaan '=' operaattorilla. Tämä erotuksena '==' operaattoriin, joka siis tutkii ovatko luvut **tai muuttujien sisältämät luvut** samat (esimerkki alla). Tässä sekoilu on hyvin yleinen virhe."
    },
    {
      "metadata": {
        "trusted": true
      },
      "cell_type": "code",
      "source": "x = 3\ny = 3\nx==y",
      "execution_count": null,
      "outputs": []
    },
    {
      "metadata": {},
      "cell_type": "markdown",
      "source": "Tässä muuten joitain muita *juttuja*, mitä muuttujilla - ja erityisesti merkkijonomuuttujilla - voi tehdä."
    },
    {
      "metadata": {
        "trusted": true
      },
      "cell_type": "code",
      "source": "hedelma = \"appelsiini\"\nhedelma[2]",
      "execution_count": null,
      "outputs": []
    },
    {
      "metadata": {
        "trusted": true
      },
      "cell_type": "code",
      "source": "indeksi = 4\nhedelma[indeksi-2]",
      "execution_count": null,
      "outputs": []
    },
    {
      "metadata": {},
      "cell_type": "markdown",
      "source": "Alle voit kokeilla tätä merkkijonoihin *indeksointia* itse:"
    },
    {
      "metadata": {
        "trusted": true
      },
      "cell_type": "code",
      "source": "",
      "execution_count": null,
      "outputs": []
    },
    {
      "metadata": {},
      "cell_type": "markdown",
      "source": "# 4. Virheet\nEräs ohjelmoinnissa hyvin tärkeä asia ovat **virheet** ja **virheilmoitukset**. Paraskaan ohjelmoija ei osaa kirjoittaa virheetöntä ohjelmakoodia. Siksi onkin hyvä, että työkalu osaa tunnistaa ja kertoa meille suurimmassa osassa tapauksista milloin olemme tehneet jotain väärin - ja mikä vielä tärkeämpää, missä ja mikä virhe oikein oli. Suorita alla olevat koodit."
    },
    {
      "metadata": {
        "trusted": true
      },
      "cell_type": "code",
      "source": "\"kaveri\"*5",
      "execution_count": null,
      "outputs": []
    },
    {
      "metadata": {
        "trusted": true
      },
      "cell_type": "code",
      "source": "\"kaveri\"+5",
      "execution_count": null,
      "outputs": []
    },
    {
      "metadata": {},
      "cell_type": "markdown",
      "source": "Mitä ylle ilmaantunut virhe mielestäsi tarkoittaa? Mitä 'str' ja 'int' tarkoittavat?\n\nPureskellaan virheilmoitus auki:\n* Merkkijonot ('str' lyh. *string*)\n* Kokonais**luvut** ('int' lyh. *integer*)\n* Molemmat ovat jotain objekteja (objects *suom. **olioita***)\n* Mutta Python ei osaa yhdistää niitä, sillä ne ovat eri **tyyppisiä** (TypeError).\n\nUsein lukemalla virheilmoituksen huolellisesti voi päästä jyvälle siitä mikä menee vikaan. Esimerkkitapauksessamme virhe olisi korjattavissa niin, että annamme myös numeron lainausmerkkien välissä olevana merkkijonona, jolloin yhdistettävät ovat molemmat merkkijonoja. Kokeile:\n```python\n>>> \"kaveri\"+\"5\"\n```"
    },
    {
      "metadata": {
        "trusted": true
      },
      "cell_type": "code",
      "source": "",
      "execution_count": null,
      "outputs": []
    },
    {
      "metadata": {},
      "cell_type": "markdown",
      "source": "![Python perustietotyypit](images/types.png)\n\n# Perustietotyypit\nOlemme jo tutustuneet kolmeen tietotyyppiin:\n* `\"Hei!\"`, joka on **merkkijono** (eng. *string*)\n* 27, joka on **kokonaisluku** (eng. *integer*)\n* 3.14, joka on desimaaliluku/**liukuluku** (eng. *float*)\n\n> **Sivuhuomautus:** Huomaa, että Pythonin desimaalierotin on piste eikä pilkku. Tämä on hyvin yleistä ohjelmointikielissä ja tietojenkäsittelyssä, mutta ensikertalaisen kannattaa kiinnittää asiaan huomiota.\n\nPython osaa kertoa meille tyypin Pythoniin sisäänrakennetulla `type(...)`-funktiolla. Funktioihin tutustumme lähemmin tuonnempana."
    },
    {
      "metadata": {
        "trusted": true
      },
      "cell_type": "code",
      "source": "tervehdys = \"Hei!\"\ntype(tervehdys)",
      "execution_count": null,
      "outputs": []
    },
    {
      "metadata": {},
      "cell_type": "markdown",
      "source": "Hae alla vastaavalla tavalla tyyppikuvaus kokonaisluvulle ja liukuluvulle:"
    },
    {
      "metadata": {
        "trusted": true
      },
      "cell_type": "code",
      "source": "type(12)",
      "execution_count": null,
      "outputs": []
    },
    {
      "metadata": {
        "trusted": true
      },
      "cell_type": "code",
      "source": "",
      "execution_count": null,
      "outputs": []
    },
    {
      "metadata": {},
      "cell_type": "markdown",
      "source": "Voit muuttaa tietoa toiseen muotoon `int(...)`, `str(...)` ja `float(...)` -funktioilla. Esimerkiksi:"
    },
    {
      "metadata": {
        "trusted": true
      },
      "cell_type": "code",
      "source": "float(5)",
      "execution_count": null,
      "outputs": []
    },
    {
      "metadata": {},
      "cell_type": "markdown",
      "source": "Kokeile muuttaa kokonaisluku merkkijonoksi:"
    },
    {
      "metadata": {
        "trusted": true
      },
      "cell_type": "code",
      "source": "",
      "execution_count": null,
      "outputs": []
    },
    {
      "metadata": {},
      "cell_type": "markdown",
      "source": "Entäs muuttuuko numeron sisältävä merkkijono desimaaliluvuksi?:"
    },
    {
      "metadata": {
        "trusted": true
      },
      "cell_type": "code",
      "source": "",
      "execution_count": null,
      "outputs": []
    },
    {
      "metadata": {},
      "cell_type": "markdown",
      "source": "# 5. Listat\nLista voi pitää sisällään sarjan olioita. Esimerkiksi:"
    },
    {
      "metadata": {
        "trusted": true
      },
      "cell_type": "code",
      "source": "hedelmat = [\"omena\", \"banaani\", \"mandariini\"]",
      "execution_count": null,
      "outputs": []
    },
    {
      "metadata": {
        "trusted": true
      },
      "cell_type": "code",
      "source": "numerot = [3, 17, -4, 8.8, 1]",
      "execution_count": null,
      "outputs": []
    },
    {
      "metadata": {},
      "cell_type": "markdown",
      "source": "Arvaa mitä `type(...)`-fuktio osaa kertoa:"
    },
    {
      "metadata": {
        "trusted": true
      },
      "cell_type": "code",
      "source": "type(hedelmat), type(numerot)",
      "execution_count": null,
      "outputs": []
    },
    {
      "metadata": {},
      "cell_type": "markdown",
      "source": "Voit käyttää kokonaisluku**indeksiä** ja hakasulkuoperaattoria hakeaksesi jonkin listan **alkion**:"
    },
    {
      "metadata": {
        "trusted": true
      },
      "cell_type": "code",
      "source": "hedelmat[0]",
      "execution_count": null,
      "outputs": []
    },
    {
      "metadata": {
        "trusted": true
      },
      "cell_type": "code",
      "source": "numerot[1]",
      "execution_count": null,
      "outputs": []
    },
    {
      "metadata": {},
      "cell_type": "markdown",
      "source": "> Huomaa edellisistä esimerkistä pari seikkaa. Ohjelmointikielissä on tyypillistä, että listan ensimmäinen alkio haetaan indeksillä `0` - se on siis tavallaan \"nollas\" alkio eikä \"ensimmäinen\". Näin myös Pythonissa.\n\nMihin negatiivinen indeksi -1 osoittaa? Entä -2? Kokeile arvasitko oikein:"
    },
    {
      "metadata": {
        "trusted": true
      },
      "cell_type": "code",
      "source": "hedelmat[-1]",
      "execution_count": null,
      "outputs": []
    },
    {
      "metadata": {},
      "cell_type": "markdown",
      "source": "### Tehtävä:\nTee **lista** kolmesta lempiväristäsi:"
    },
    {
      "metadata": {
        "trusted": true
      },
      "cell_type": "code",
      "source": "",
      "execution_count": null,
      "outputs": []
    },
    {
      "metadata": {},
      "cell_type": "markdown",
      "source": "Käytä **indeksiä** ja hakasulkuoperaattoria hakeaksesi yhden lempiväreistäsi:"
    },
    {
      "metadata": {
        "trusted": true
      },
      "cell_type": "code",
      "source": "",
      "execution_count": null,
      "outputs": []
    },
    {
      "metadata": {},
      "cell_type": "markdown",
      "source": "**Extratehtävä:** mitä tapahtuu jos indeksoit kahdesti `hedelmat`-listaa tai lempivärilistaa? Miksi tulos on se mikä se on?\n"
    },
    {
      "metadata": {
        "trusted": true
      },
      "cell_type": "code",
      "source": "hedelmat[1][3]",
      "execution_count": null,
      "outputs": []
    },
    {
      "metadata": {},
      "cell_type": "markdown",
      "source": "# 6. Totuusarvot (*eng. booleans*)\nTotuusarvo voi olla `True` tai `False`"
    },
    {
      "metadata": {
        "trusted": true
      },
      "cell_type": "code",
      "source": "1==1",
      "execution_count": null,
      "outputs": []
    },
    {
      "metadata": {
        "trusted": true
      },
      "cell_type": "code",
      "source": "15 < 5",
      "execution_count": null,
      "outputs": []
    },
    {
      "metadata": {},
      "cell_type": "markdown",
      "source": "Kokeile mitä tapahtuu jos kirjoitat Pythonille pelkän `True` tai `False`. Entäs pystytkö sijoittamaan totuusarvon muuttujaan?"
    },
    {
      "metadata": {
        "trusted": true
      },
      "cell_type": "code",
      "source": "",
      "execution_count": null,
      "outputs": []
    },
    {
      "metadata": {
        "trusted": true
      },
      "cell_type": "code",
      "source": "",
      "execution_count": null,
      "outputs": []
    },
    {
      "metadata": {},
      "cell_type": "markdown",
      "source": "Mikä on totuusarvon tyyppi? Tarkista se `type(...)`-funktiolla, kuten teimme kokonaisluvuille ja merkkijonoille:"
    },
    {
      "metadata": {
        "trusted": true
      },
      "cell_type": "code",
      "source": "",
      "execution_count": null,
      "outputs": []
    },
    {
      "metadata": {},
      "cell_type": "markdown",
      "source": "> Huomaa, että `True` ja `False` on kirjoitettu suurella alkukirjaimella, ja että ne eivät ole ympäröity lainausmerkein, eli ne eivät ole merkkijonoja. `True` ja `False` ovatkin Pythonin **varattuja sanoja**, eli kieleen sisäänrakennettuja asioita."
    },
    {
      "metadata": {},
      "cell_type": "markdown",
      "source": "### and / or / not\nMyös `and`, `or` ja `not` ovat Pythonissa varattuja sanoja. Niillä voi muuttaa totuusarvoja, sekä yhdistää niitä tuottavia vertailuoperaatioita toisiinsa.\n\n> Alla risuaidan `#` jälkeen kirjoitettua ei tulkita Python-kieleksi. Ne ovat koodin sekaan kirjoitettuja **kommentteja**, mikä onkin usein tarpeen, jotta koodin tarkoitusta ei tarvitse turhaan kummastella. Kommentit auttavat koodaajaa - ja mikä tärkeämpää - muita koodaajia ymmärtämään mitä koodi tekee.\n\n"
    },
    {
      "metadata": {
        "trusted": true
      },
      "cell_type": "code",
      "source": "1==1 and 2==2   # molemmat ovat tosia, lopputulos tosi",
      "execution_count": null,
      "outputs": []
    },
    {
      "metadata": {
        "trusted": true
      },
      "cell_type": "code",
      "source": "1==1 and 2!=2  # Vain toinen on tosi, lopputulos epätosi",
      "execution_count": null,
      "outputs": []
    },
    {
      "metadata": {
        "trusted": true
      },
      "cell_type": "code",
      "source": "1==2 and 2==3  # Kummatkaan eivät ole tosia, lopputulos epätosi",
      "execution_count": null,
      "outputs": []
    },
    {
      "metadata": {
        "trusted": true
      },
      "cell_type": "code",
      "source": "1==1 or 2==2   # molemmat ovat tosia, lopputulos tosi",
      "execution_count": null,
      "outputs": []
    },
    {
      "metadata": {
        "trusted": true
      },
      "cell_type": "code",
      "source": "1==1 or 2!=2  # Vain toinen on tosi, lopputulos silti tosi",
      "execution_count": null,
      "outputs": []
    },
    {
      "metadata": {
        "trusted": true
      },
      "cell_type": "code",
      "source": "1==2 or 2==3  # Kummatkaan eivät ole tosia, lopputulos epätosi",
      "execution_count": null,
      "outputs": []
    },
    {
      "metadata": {
        "trusted": true
      },
      "cell_type": "code",
      "source": "1==1 ",
      "execution_count": null,
      "outputs": []
    },
    {
      "metadata": {
        "trusted": true
      },
      "cell_type": "code",
      "source": "not 1==1",
      "execution_count": null,
      "outputs": []
    },
    {
      "metadata": {},
      "cell_type": "markdown",
      "source": "### Tehtävä:\nKokeile sijoittaa muutama totuusarvo muuttujiin (esim. `a` ja `b`) ja kokeile itse `and`, `or` ja `not` operaattoreita."
    },
    {
      "metadata": {
        "trusted": true
      },
      "cell_type": "code",
      "source": "",
      "execution_count": null,
      "outputs": []
    },
    {
      "metadata": {
        "trusted": true
      },
      "cell_type": "code",
      "source": "",
      "execution_count": null,
      "outputs": []
    },
    {
      "metadata": {
        "trusted": true
      },
      "cell_type": "code",
      "source": "",
      "execution_count": null,
      "outputs": []
    },
    {
      "metadata": {},
      "cell_type": "markdown",
      "source": "**XOR:** Osaatko tehdä vertailun, joka palauttaa `True` vain jos jompikumpi vertailtavasta on tosi (ns. exclusive-or, xor)? Vinkki: käytä muuttujia ja ryhmittele vertailuoperaattoreita suluilla. Esim:\n```python\n>>> not (True and (True or False))\n```"
    },
    {
      "metadata": {
        "trusted": true
      },
      "cell_type": "code",
      "source": "",
      "execution_count": null,
      "outputs": []
    },
    {
      "metadata": {},
      "cell_type": "markdown",
      "source": "**Merkkijonojen vertailu:** Kokeile vielä verrata merkkijonoja keskenään. Kokeile onko suurilla ja pienillä kirjaimilla merkitystä. Yllätyitkö?"
    },
    {
      "metadata": {
        "trusted": true
      },
      "cell_type": "code",
      "source": "\"test\" == \"Test\"",
      "execution_count": null,
      "outputs": []
    },
    {
      "metadata": {},
      "cell_type": "markdown",
      "source": "# 7. Logiikka \nTähän mennessä olemme käyttäneet Pythonia lähinnä moneen hienoon temppuun taipuvana laskukoneena. Jotta pystyisimme kirjoittamaan tietokoneelle pidempiä ohjeita, tulee meidän tutustua keinoihin joilla ohjeiden **logiikka** kuvataan Pythonin kaltaisissa ohjelmointikielissä. Tähän on käytettävissä kaksi perustekniikkaa: **ehdot** ja **simukat**."
    },
    {
      "metadata": {},
      "cell_type": "markdown",
      "source": "## 7.1. Ehtolause\n![Haarautuva nuoli](images/arrowtree.png)\n\n`if` -lause, eli ehtolause, on tapa pistää tietokone päättämään mitä sen tulisi koodia tulkitessaan seuraavaksi tehdä. \n\nAlla on muutamia esimerkkejä, joita saattaisit käyttää tosielämän päätöksentekoon:\n\n\"**Jos** olet nälkäinen, mennään lounaalle.\"\n\n\"**Jos** roskis on täynnä, mene ja tyhjää se.\""
    },
    {
      "metadata": {},
      "cell_type": "markdown",
      "source": "Alla esimerkki siitä, miten samankaltainen asia ilmaistaisiin Python-koodissa:\n\n```python\n>>> nimi = \"Jussi\"\n>>> if name == \"Jussi\":\n>>> ····print(\"Moi Jussi!\")\n```\n`Moi Jussi!`"
    },
    {
      "metadata": {},
      "cell_type": "markdown",
      "source": "> **Huomattavaa:** Pythonissa ehtolauseen jälkeen tulee kaksoispiste, joka puolestaan kertoo että seuraavalta riviltä alkaa uusi **lohko**. Lohko on pätkä ohjelmakoodia, joka kuuluu yhteen, ja jonka tietokone suorittaa kokonaisuutena rivi kerrallaan (ylhäältä alas). Lohko on sisennetty **neljällä välilyönnillä** ja kaikki samaan tasoon sisennetyt peräkkäiset rivit kuuluvat samaan lohkoon (yllä olevassa esimerkissä pisteet tarkoittavat välilyöntejä, ja ovat siinä näkyvillä vain siksi, että välilyöntien käyttö tulisi selvemmäksi)."
    },
    {
      "metadata": {},
      "cell_type": "markdown",
      "source": "Mutta entä jos henkilö ei olekaan Jussi? Pythonissa on varattu sana `else` näitä tilanteita varten:\n\n```python\n>>> if name==\"Jussi\":\n>>> ····print(\"Moi Jussi!\")\n>>> else:\n>>> ····print(\"Hujari!\")\n```\n\nJos taas henkilöitä on enemmän, voidaan käyttää sanaa `elif` tämän toisen ehdon tarkastamiseen:\n\n```python\n>>> if name==\"Jussi\":\n>>> ····print(\"Moi Jussi!\")\n>>> elif name==\"Aki\":\n>>> ····print(\"Hei Aki!\")\n>>> else:\n>>> ····print(\"Kuka sinä olet?\")\n```\n\n> **Huomattavaa:**\n* `elif` -ehto tarkastetaan *vain jos mikään ennen sitä olevista ehdoista ei toteutunut*.\n* `else` -lohko suoritetaan *vain jos mikään aiempi ehto ei toteutunut*.\n\n>Toisinsanoen: `if`/`elif`/`else` rakenteesta suoritetaan aina vain yksi haara (lohko)."
    },
    {
      "metadata": {},
      "cell_type": "markdown",
      "source": "### Tehtävä:\nKirjoita koodinpätkä, joka tulostaa ruudulle \"Yeah!\" jos muuttuja nimeltä `color` on `\"yellow\"`:"
    },
    {
      "metadata": {
        "trusted": true
      },
      "cell_type": "code",
      "source": "",
      "execution_count": null,
      "outputs": []
    },
    {
      "metadata": {},
      "cell_type": "markdown",
      "source": "Lisää ehtoon vielä `elif` ja `else` -haarat, joissa tutkit onko muuttujassa jokin toinen väri ja jos on, tulostat jotain muuta nokkelaa."
    },
    {
      "metadata": {},
      "cell_type": "markdown",
      "source": "# 7.2. Silmukat\n\n![Silmukkanuoli](images/loop.png)\n\nToinen perusrakenne ohjelmointikielissä on **silmukat**. Sitä käytetään kun halutaan, että tietokone toistaa jokin asia monta kertaa. Silmukoita on kahdenlaisia:\n* *Laskevat* silmukat, jotka toistetaan tietyn monta kertaa\n* *Ehdolliset* silmukat, joita toisteaan kunnes jokin ehto täyttyy"
    },
    {
      "metadata": {},
      "cell_type": "markdown",
      "source": "### Laskeva silmukka\nLaskevat silmukat kirjoitetaan pythonissa käyttäen `for`-avainsanaa ja siksi niitä sanotaankin `for`-silmukoiksi. Silmukka vaatii myös nimetyn **laskumuuttujan** (esimerkissä `numero`), `in`-avainsanan ja esim. listan numeroita, jotka silmukan laskumuuttuja saa järjestyksessä yksi toisensa jälkeen. Huomaa myös kaksoispiste rivin lopussa ja uuden lohkon merkiksi tehty sisennys:"
    },
    {
      "metadata": {
        "trusted": true
      },
      "cell_type": "code",
      "source": "for numero in [1,2,3,4,5]:\n    print(\"Hei\", numero)",
      "execution_count": null,
      "outputs": []
    },
    {
      "metadata": {},
      "cell_type": "markdown",
      "source": "### Tehtävä:\nKirjoita koodinpätkä, joka laskee kertoman (merkitään matematiikassa huutomerkillä `!`), eli kertoo peräkkäiset numerot keskenään. Esim.\n\n```5! = 5*4*3*2*1```\n\nKäytä muuttujaa, johon säilöt tuloksen. Pitkien lukulistojen kirjoittaminen on työlästä, joten kannattaa käyttää Pythoniin sisäänrakennettua `range(a,b)`-funktiota, joka tekee sinulle lukulistan `a`:sta `b`:hen. Havainnollistava esimerkki alla:"
    },
    {
      "metadata": {
        "trusted": true
      },
      "cell_type": "code",
      "source": "list( range(1,5) ) # voit for-silmukassa jättää list(...)-osan pois.",
      "execution_count": null,
      "outputs": []
    },
    {
      "metadata": {},
      "cell_type": "markdown",
      "source": "### Ehdollinen silmukka\nEhdollinen silmukka pyörii kunnes joku ehto täyttyy (tai jää täyttymättä). Pythonissa tämä on toteutettavissa `while(...):` rakenteella, missä sulkujen sisään tulee tutkittava ehto ja alle toistettava koodilohko."
    },
    {
      "metadata": {
        "trusted": true
      },
      "cell_type": "code",
      "source": "lkm = 1\nwhile (lkm<4):\n    print ('toistojen lukumäärä on', lkm)\n    lkm = lkm+1",
      "execution_count": null,
      "outputs": []
    },
    {
      "metadata": {},
      "cell_type": "markdown",
      "source": "> **Huomattavaa:** on tärkeää, että ehto jää täyttymättä edes joskus, sillä muuten kyseessä on päättymätön silmukka. Niillekin on paikkansa, mutta yleensä ohjelma menee ns. jumiin, jos se jää pyörimään tällaiseen."
    },
    {
      "metadata": {},
      "cell_type": "markdown",
      "source": "### Tehtävä:\nKäy edellä olevaa esimerkkiä rivi riviltä päässäsi läpi suorittaen sitä tietokoneen lailla askel kerrallaan. Huomioi missä vaihessa muuttujan arvoa kasvatetaan ja missä vaiheessa ehdon tarkastus tehdään."
    },
    {
      "metadata": {},
      "cell_type": "markdown",
      "source": "# 9. Aliohjelmat\n\n![Aliohjelmanuoli](images/functionarrow.png)\n\nAjattele keksirepsetiä:\n\n![Kuva keksireseptistä raaka-aineineen (7 kpl) ja vaiheistettuine ohjeineen (6 askelta)](images/resepti.png)\n\nKumpi on helpompaa, noudattaa reseptiä, vai kysyä äidiltä, että \"leipoisitko keksejä\"? Ohjelmoinnissa tällainen pyyntö vertautuu aliohjelmakutsuun, sillä **aliohjelma** on joukko yhteen liittyviä ohjeita paketoituna nimetyksi kokonaisuudeksi.\n\nTämä on kätevää, sillä vaikka reseptin seuraaminen meiltä onnistuisikin, on pyytäminen **huomattavasti helpompaa**. Ja asioiden tekeminen helpommin, tehokkaammin ja nopeammin on pitkälti se, mistä ohjelmoinnissa on kyse.\n\n## Aliohjelmien syntaksi (eli kirjoitustapa)\nPythoniksi muutettuna tämä kaunis pyyntö saada tuoreita pikkuleipiä voitaisiin ilmaista vaikka näin:\n\n```!Python\npikkuleivat = leivo_pikkuleipia(montako_tarvitaan)\n```\n\nTässä `leivo_pikkuleipia` on **aliohjelman nimi** ja `montako_tarvitaan` on **parametri**, joka määrää sen kuinka suurelle joukolle (eli kuinka montakertaisen pikkuleipätaikinan) äiti leipoo.\n\nPythonissa aliohjelmat **esitellään** `def`-avainsanaa käyttäen, jonka jälkeen annetaan sille nimi ja sulut. Esittelyrivi päättyy *kaksoispisteeseen*, ja seuraavalla rivillä on aliohjelman toteutuksen määrittelevä koodilohko, eli **aliohjelman runko**.\n\nAliohjelmaa **kutsutaan** kirjoittamalla sen nimi ja sulut:\n"
    },
    {
      "metadata": {
        "trusted": true
      },
      "cell_type": "code",
      "source": "def moikkaa_mua(): # tämä on aliohjelman esittely\n    print(\"moi\")\n    \nmoikkaa_mua() # tämä on aliohjelmakutsu",
      "execution_count": null,
      "outputs": []
    },
    {
      "metadata": {},
      "cell_type": "markdown",
      "source": "> **Huomattavaa:** esittelyn ja kutsumisen eron ymmärtäminen on hyvin tärkeää. Siis kertauksena: **esittelyssä** kerrotaan yksityiskohtaisesti miten joku asia tehdään ja **kutsuttaessa** pyydetään tekemään kyseinen asia!"
    },
    {
      "metadata": {},
      "cell_type": "markdown",
      "source": "Aliohjelmalle voidaan lisätä parametreja kirjoittamalla ne sulkujen väliin. Näitä **parametrimuuttujia** voidaan sitten käyttää aliohjelman lohkon koodissa kuten mitä tahansa muuttujaa. Huomaa, että jos aliohjelmalle on lisätty parametri, tällöin myös aliohjelman kutsussa pitää antaa kyiseiselle parametrimuuttujalle arvo. (suorita alla oleva koodi)"
    },
    {
      "metadata": {
        "trusted": true
      },
      "cell_type": "code",
      "source": "def moikkaa_kaveria(nimelta): #esittely\n    print(\"moi\", nimelta)\n    \nmoikkaa_kaveria(\"Jussi\")",
      "execution_count": null,
      "outputs": []
    },
    {
      "metadata": {},
      "cell_type": "markdown",
      "source": "### Tehtävä:\nKutsu edellä esiteltyä `moikkaa_kaveria`-aliohjelmaa niin, että se moikkaa sinua. Esittele sitten uusi aliohjelma, joka ottaa kaksi parametria (parametrit erotetaan toisistaan pilkulla): tervehdyksen ja listan nimiä ja moikkaa kaikkia listassa olevia henkilöitä (kts. `for`-silmukan ja listan ohjeet yltä, jos et muista miten niitä käytettiin)."
    },
    {
      "metadata": {
        "trusted": true
      },
      "cell_type": "code",
      "source": "1+2",
      "execution_count": null,
      "outputs": []
    },
    {
      "metadata": {
        "trusted": true
      },
      "cell_type": "code",
      "source": "",
      "execution_count": null,
      "outputs": []
    },
    {
      "metadata": {},
      "cell_type": "markdown",
      "source": "## Aliohjelmien paluuarvot\n\nKäytämme edelleen pikkuleipiä leipovaa äitiä apuna:\n\n```!Python\npikkuleivat = leivo_pikkuleipia(montako_tarvitaan)\n```\n\nRivin alkuun on nyt lisätty `pikkuleivat`-muuttuja ja yhtäsuuruusmerkki. Tähän muuttujaan puolestaan sijoitetaan **aliohjelman paluuarvo**, eli valmistuneet pikkuleivät.\n\nTässä yhteydessä toinen hyödyllinen tapa ajatella aliohjelmia on *tehdasvertaus*:  Aliohjelma on kuin tehdas, minne menee raaka-aineita sisään (parametrit) ja ulos tulee valmis tuote (paluuarvo). Emme nimittäin ole kiinnostuneita siitä *miten* tehdas toimii, kunhan se vain tekee sen mitä lupaa.\n\nAliohjelman esittelyn yhteydessä, sen koodilohkossa, käyttämällä `return`-avainsanaa, voidaan lopettaa aliohjelma samalla palauttaen jokin arvo. Esimerkiksi näin (suorita alla oleva koodi):"
    },
    {
      "metadata": {
        "trusted": true
      },
      "cell_type": "code",
      "source": "def tuplaa(numero): #esittely\n    return numero*2\n\ntuplaa (4) #kutsu",
      "execution_count": null,
      "outputs": []
    },
    {
      "metadata": {},
      "cell_type": "markdown",
      "source": "### Tehtävä:\nTuplaa 12 käyttäen `tuplaa`-aliohjelmaa.\n\nTai, mitä tapahtuu jos tuplaat oman nimesi? Kokeile."
    },
    {
      "metadata": {
        "trusted": true
      },
      "cell_type": "code",
      "source": "",
      "execution_count": null,
      "outputs": []
    },
    {
      "metadata": {
        "trusted": true
      },
      "cell_type": "code",
      "source": "",
      "execution_count": null,
      "outputs": []
    },
    {
      "metadata": {},
      "cell_type": "markdown",
      "source": "## Yhteenveto aliohjelmista\nOpimme paljon Pythonin aliohjelmista, mutta kerrataan vielä:\n\n* Aliohjelmat **esitellään** `def`-avainsanalla\n* Aliohjelmia **kutsutaan** kirjoittamalla sen nimi ja heti nimen perään **sulut**: `kutsun_nimi()`\n* Aliohjelmakutsun sulkujen väliin kirjoitetaan mahdolliset **parametrien** arvot pilkuilla eroteltuna\n* Jos aliohjelma palauttaa **paluuarvon**, sen voi ottaa talteen muuttujaan yhtäsuuruusmerkillä (sijoitus)\n* Aliohjelman **runkolohkossa** voi lopettaa aliohjelman suorituksen ja palauttaa **paluuarvon** `return`-avainsanalla."
    },
    {
      "metadata": {},
      "cell_type": "markdown",
      "source": "# 10. Syöte\nSyöte on tietoa, jota syötämme ohjelmalle. Tämä tieto voidaan sitten vaikkapa välittää aliohjelmalle tai näyttää se ruuudulla.\n\nPythonissa on sisäänrakennettu aliohjelma nimeltä `input()`, joka kysyy käyttäjältä jotain. Esimerkki alla (suorita se ja vastaa kysymyksiin):"
    },
    {
      "metadata": {
        "trusted": true
      },
      "cell_type": "code",
      "source": "def sano_kohteliaisuus():\n    print(\"Kirjoita nimesi:\")\n    nimi = input()\n    print(\"Kirjoita lempinumerosi:\")\n    vari = int(input())\n    print( \"Hei\",nimi+\",\", vari, \"on sitten hyvä numero.\")\n    \nsano_kohteliaisuus()",
      "execution_count": null,
      "outputs": []
    },
    {
      "metadata": {},
      "cell_type": "markdown",
      "source": "## Tehtävä:\nKirjoita koodi, joka kysyy kaksi numeroa ja laskee ne yhteen."
    },
    {
      "metadata": {
        "trusted": true
      },
      "cell_type": "code",
      "source": "",
      "execution_count": null,
      "outputs": []
    },
    {
      "metadata": {},
      "cell_type": "markdown",
      "source": "# 11. Modulit\n*\"Pyörää ei kannata keksiä uudelleen\"* on sanonta, joka pätee erityisen hyvin koodauksessa. Suuri osa yksinkertaisista koodaustehtävistä on jo tehty, ja usein nopein tapa saada asioita aikaan on uudelleenkäyttää jonkun toisen kirjoittamaa ohjelmakoodia. \n\nPythonin tarjoama ratkaisu tähän on modulit. Voit ajatella modulia vaikka kokoelmana yhteen littyviä aliohjelmia, jotka tekevän jonkin tehtävän tekemisestä helppoa. Ne ovat tavallaan ohjelmoinnin leegopalikoita. Pythonin mukana tulee koko joukko moduleita, tutustutaan alla niistä muutamaan:\n\n*Satunnaisen numeron arpominen väliltä 1-100:*\n```python\n>>> import random\n>>> print( random.randint(1,100) )\n```\n\n*Kellonajan tarkistaminen:*\n```python\n>>> from datetime import datetime\n>>> print( datetime.now() )\n```\n* `from X import Y` tarkoittaa tässä sitä, että haemme `datetime` modulista vain `datetime` nimisen \"palikan\".\n\n*Kalenterin tulostaminen:*\n```python\n>>> import calendar\n>>> calendar.prmonth(2015, 9)\n```\n\n> Huomattavaa: moduleiden sisällä asustavia aliohjelmia ja muita \"juttuja\" kutsutaan pistenotaatiolla, eli niin, että ensin tulee modulin nimi, sitten piste, sitten kutsuttavan aliohjelman (tai muun \"jutun\") nimi, ja aliohjelman ollessa kyseessä sulut ja niiden väissä parametrit.\n\n### Tehtävä:\nKokeile itse käyttää esimerkkien moduleita kirjoittamalla niiden koodi alle (muistathan, että \"`>>>`\" EI ole osa kopioitavaa koodia):\n\n"
    },
    {
      "metadata": {
        "trusted": true
      },
      "cell_type": "code",
      "source": "",
      "execution_count": null,
      "outputs": []
    },
    {
      "metadata": {
        "trusted": true
      },
      "cell_type": "code",
      "source": "",
      "execution_count": null,
      "outputs": []
    },
    {
      "metadata": {
        "trusted": true
      },
      "cell_type": "code",
      "source": "",
      "execution_count": null,
      "outputs": []
    },
    {
      "metadata": {},
      "cell_type": "markdown",
      "source": "Alla esitellään esimerkkien avulla vielä pari mielenkiintoista modulia. Sisäänrakennettuja moduleita voit selata [Pythonin dokumentaation modulilistasta](https://docs.python.org/3/py-modindex.html). Lisäksi netti on puolellaan kolmannen osapuolen moduleita, tarpeeseen jos toiseenkin."
    },
    {
      "metadata": {
        "trusted": true
      },
      "cell_type": "code",
      "source": "import os\nfor tiedosto in os.listdir( os.getcwd() ):\n    print(tiedosto)",
      "execution_count": null,
      "outputs": []
    },
    {
      "metadata": {
        "trusted": true
      },
      "cell_type": "code",
      "source": "import urllib.request\npy_home = urllib.request.urlopen(\"http://www.python.org\")\nprint(py_home.read()) #Tulostaa pythonin kotisivun HTML-muodossa.",
      "execution_count": null,
      "outputs": []
    },
    {
      "metadata": {},
      "cell_type": "markdown",
      "source": "## Tehtävä:\nHyödynnä äsken ja aiemmin oppimaasi ja kirjoita alle peli, joka arpoo satunnaisen numeron (`random`), ja pyytää sinua arvaamaan sen (`print`, `input`) kunnes (`while`) osut oikeaan. Voit rullailla ylöspäin tätä Notebookia, jos et muista jotain yksityiskohtaa. Jos peli tuntuu liian vaikealta, voit laittaa ohjelman tulostamaan vinkkejä, kuten \"luku on pienempi\" tai \"polttaa\"."
    },
    {
      "metadata": {
        "trusted": true
      },
      "cell_type": "code",
      "source": "",
      "execution_count": null,
      "outputs": []
    },
    {
      "metadata": {},
      "cell_type": "markdown",
      "source": "# 12. Kilpikonnagrafiikkaa\n\nPythonissa on eräs mielenkiintoinen moduli nimeltä `turtle`, jolla leikimme seuraavaksi. Kyseessä on omassa ikkunassaan asuva kilpikonna, jota ohjaat kirjoittamalla koodia.\n\nValitettavasti Pythonin sisäänrakennettu kilpikonna ei toimi verkossa olevassa Jupyter-muistilehtiössä (esim. Azure Notebooks), vaan tähän tehtävään tarvitset paikallisen Python-asennuksen. Suositeltavaa on käyttää [Anaconda-jakelua](https://www.anaconda.com/). Asennuspaketti eri alustoille (Windows/OSX/Linux) on ladattavissa oheisen linkin takaa."
    },
    {
      "metadata": {},
      "cell_type": "markdown",
      "source": "Kun olet asentanut Anacondan ja avannut tämän `ipynb`-tiedoston siellä, meillä on toimiva kilpikonna. Pistetäänhän se liikkeelle! "
    },
    {
      "metadata": {
        "trusted": true
      },
      "cell_type": "code",
      "source": "import turtle\nturtle.reset()\n\n#Kirjoita kilpikonnan ohjauskoodi tähän\nturtle.fd(100)\n\nturtle.Screen().mainloop()",
      "execution_count": null,
      "outputs": []
    },
    {
      "metadata": {},
      "cell_type": "markdown",
      "source": "Jos saat virheilmoituksen, jokin meni pieleen, eikä Jypyter-ympäristö asentunut tai käynnistynyt koneellasi oikein. Tarkista, että olet käynnistänyt *Jupyter Notebook* -palvelimen käynnistysvalikosta ja että selain on aukaissut seuraavan sivun: [http://127.0.0.1:8888](http://127.0.0.1:8888)"
    },
    {
      "metadata": {},
      "cell_type": "markdown",
      "source": "Kun ajat kodin kilpikonna vain kököttää paikallaan. Pistetään siihen vähän liikettä. **ENSIN KUITENKIN SULJE AUENNUT KILPIKONNAIKKUNA RUKSISTA. JOS ET TEE TÄTÄ, ET NÄE MUUTTUNEEN KOODIN VAIKUTUKSIA.**\n\nAlla joitain \"temppuja\", mitä kilpikonna osaa:\n```python\nturtle.forward(10) # kilppari kulkee eteenpäin annetun määrän askelia\nturtle.right(45) # kilppari kääntyy annetun määrän asteita oikealle\nturtle.left(90) # kilppari kääntyy annetun määrän asteita oikealle\n```\n\n## Tehtävä:\nKäytä näitä kolmea käskyä ja silmukoita tuottaaksesi erilaisia toinen toistaan villimpiä kuvioita. Voit kirjoittaa koodin yllä olevaan runkoon. Huom: Komennot ovat myös lyhennettävissä `fd`, `rt`, `lt` jne.\n\nJos jäit koukkuun, [Pythonin turtle-modulin dokumentaatiosta](https://docs.python.org/3/library/turtle.html) voit lukea mitä kaikkia temppuja Python-kilppari osaa. Voit mm. vaihtaa ikkunan taustaväriä, kilpikonnan muotoa, viivan paksuutta ja väriä jne.\n"
    },
    {
      "metadata": {},
      "cell_type": "markdown",
      "source": "## Lisätehtävä: \nDokumentaatiota lukemalla paljastuu, että kilpikonnaikkunan kautta voi lukea hiiren ja näppäimistön painalluksia. Tämä mahdollistaa jo vaikka mitä! Kokeile mitä alla oleva koodi tekee ja jatkokehitä koodia vaikka peliksi asti!"
    },
    {
      "metadata": {
        "trusted": true
      },
      "cell_type": "code",
      "source": "from mobilechelonian import Turtle\nt = Turtle()\n\ndef painettu_ylos():\n    t.setheading(90)\n    t.forward(20)\n    \ndef painettu_alas():\n    t.setheading(-90)\n    t.forward(20)\n    \ndef painettu_vasemmalle():\n    t.setheading(180)\n    t.forward(20)\n    \ndef painettu_oikealle():\n    t.setheading(0)\n    t.forward(20)\n    \n# Kiinnitetään näppäimenpainallukset edellä oleviin aliohjelmiin\n#  kun näppäintä painetaa, aliohjelmaa kutsutaan.\nscreen = turtle.Screen()\nscreen.onkey(painettu_ylos, \"w\")\nscreen.onkey(painettu_vasemmalle, \"a\")\nscreen.onkey(painettu_alas, \"s\")\nscreen.onkey(painettu_oikealle, \"d\")\nscreen.listen()\nscreen.mainloop()",
      "execution_count": null,
      "outputs": []
    },
    {
      "metadata": {},
      "cell_type": "markdown",
      "source": "![Onnittelut](images/congratulations.png)\n\nOnneksi olkoon, olet nyt oppinut pythonin perusteet ja sitä mukaa kun otat edellä oppimaasi haltuun, voit rakentaa aina vain isompia ja hienompia juttuja. Ai mitä vai? Alla joitain esimerkkejä. Huomaa kuitenkin, että vain osa näistä toimii Jupyter-ympäristössä, joka on tarkoitettu paremminkin tieteelliseen käyttöön ja automaattiseen tietojenkäsittelyyn. Suositeltavaa onkin sovellusten tai kuvan ja äänen kanssa työskennellessä käyttää kehitysympäristöä kuten [Visual Studio Code](https://code.visualstudio.com/docs/languages/python). Sen ja modulien avulla:\n\n* Voit kirjoittaa pelejä (googleta `\"pygame-zero\"`)\n* Toistaa ja tehdä musiikkia ja videoita (googleta `\"pymedia\"`)\n* Rakentaa verkkosivuja ja -sovelluksia (googleta `\"python flask\"`)\n* Rakentaa mobiilisovelluksia ja -pelejä (googleta `\"kivy\"`)\n* Tehdä matematiikan, fysiikan ja muiden aineiden kotitehtäviä (googleta `\"scientific python\"` tai `\"<opetettavan aiheen englanninkielinen avainsana tähän> python\"`)\n\nTämä on mahdollista, koska lähes kaikkeen löytyy Python -moduli:\n![XKCD Python](http://imgs.xkcd.com/comics/python.png \"Lähde: xkcd.com\")\n"
    },
    {
      "metadata": {
        "trusted": true
      },
      "cell_type": "code",
      "source": "",
      "execution_count": null,
      "outputs": []
    }
  ],
  "metadata": {
    "kernelspec": {
      "name": "python3",
      "display_name": "Python 3",
      "language": "python"
    },
    "language_info": {
      "mimetype": "text/x-python",
      "nbconvert_exporter": "python",
      "name": "python",
      "file_extension": ".py",
      "version": "3.5.4",
      "pygments_lexer": "ipython3",
      "codemirror_mode": {
        "version": 3,
        "name": "ipython"
      }
    }
  },
  "nbformat": 4,
  "nbformat_minor": 1
}